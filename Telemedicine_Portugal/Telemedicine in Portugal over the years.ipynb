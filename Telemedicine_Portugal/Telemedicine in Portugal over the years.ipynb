{
 "cells": [
  {
   "cell_type": "markdown",
   "id": "ae87a3cc",
   "metadata": {},
   "source": [
    "# Research Question\n",
    "How Telemedicine evolved over the past 10 years in Portugal, comparatively to other EU coutries \n",
    "and what Regional Disparities are observed during this period of time."
   ]
  },
  {
   "cell_type": "markdown",
   "id": "fdb4e4be",
   "metadata": {},
   "source": [
    "# Data Extraction\n",
    "(Via API) https://transparencia.sns.gov.pt/explore/dataset/consultas-em-telemedicina/table/?flg=pt-pt&disjunctive.regiao&disjunctive.instituicao&sort=tempo\n",
    "Could also be directly downloaded trough the csv file.\n",
    "(data = pd.read_csv('consultas-em-telemedicina.csv', delimiter=';')"
   ]
  },
  {
   "cell_type": "markdown",
   "id": "ed4dd502",
   "metadata": {},
   "source": [
    "For a matter of training, I have decided to access data trough the API source."
   ]
  },
  {
   "cell_type": "code",
   "execution_count": 1,
   "id": "569a2ae7",
   "metadata": {},
   "outputs": [],
   "source": [
    "#Importing the necessary libraries\n",
    "import pandas as pd\n",
    "import numpy as np\n",
    "import requests"
   ]
  },
  {
   "cell_type": "code",
   "execution_count": 2,
   "id": "b656f206",
   "metadata": {},
   "outputs": [
    {
     "name": "stdout",
     "output_type": "stream",
     "text": [
      "<Response [200]>\n"
     ]
    }
   ],
   "source": [
    "#Check for response of the available API url\n",
    "response = requests.get('https://transparencia.sns.gov.pt/api/explore/v2.1/catalog/datasets/consultas-em-telemedicina/records?limit=20')\n",
    "print(response)"
   ]
  },
  {
   "cell_type": "code",
   "execution_count": 3,
   "id": "08e854e4",
   "metadata": {},
   "outputs": [
    {
     "data": {
      "text/plain": [
       "{'total_count': 3208,\n",
       " 'results': [{'tempo': '2020-01',\n",
       "   'regiao': 'Região de Saúde do Alentejo',\n",
       "   'instituicao': 'Unidade Local de Saúde do Baixo Alentejo, EPE',\n",
       "   'localizacao_geografica': {'lon': -7.8721227, 'lat': 38.014123},\n",
       "   '1as_consultas_telemedicina': 0,\n",
       "   'consultas_subsequentes_telemedicina': 0,\n",
       "   'total_consultas_telemedicina': 0},\n",
       "  {'tempo': '2020-02',\n",
       "   'regiao': 'Região de Saúde do Algarve',\n",
       "   'instituicao': 'Centro Hospitalar Universitário do Algarve,EPE',\n",
       "   'localizacao_geografica': {'lon': -7.9281554, 'lat': 37.0238973},\n",
       "   '1as_consultas_telemedicina': 0,\n",
       "   'consultas_subsequentes_telemedicina': 0,\n",
       "   'total_consultas_telemedicina': 0},\n",
       "  {'tempo': '2020-02',\n",
       "   'regiao': 'Região de Saúde do Centro',\n",
       "   'instituicao': 'Centro Hospitalar de Leiria, EPE',\n",
       "   'localizacao_geografica': {'lon': -8.7982706, 'lat': 39.7414812},\n",
       "   '1as_consultas_telemedicina': 29,\n",
       "   'consultas_subsequentes_telemedicina': 32,\n",
       "   'total_consultas_telemedicina': 61},\n",
       "  {'tempo': '2020-02',\n",
       "   'regiao': 'Região de Saúde LVT',\n",
       "   'instituicao': 'Centro Hospitalar Médio Tejo, EPE',\n",
       "   'localizacao_geografica': {'lon': -8.5404429, 'lat': 39.478072},\n",
       "   '1as_consultas_telemedicina': 1,\n",
       "   'consultas_subsequentes_telemedicina': 8,\n",
       "   'total_consultas_telemedicina': 9},\n",
       "  {'tempo': '2020-03',\n",
       "   'regiao': 'Região de Saúde do Centro',\n",
       "   'instituicao': 'Centro Hospitalar de Leiria, EPE',\n",
       "   'localizacao_geografica': {'lon': -8.7982706, 'lat': 39.7414812},\n",
       "   '1as_consultas_telemedicina': 55,\n",
       "   'consultas_subsequentes_telemedicina': 65,\n",
       "   'total_consultas_telemedicina': 120},\n",
       "  {'tempo': '2020-03',\n",
       "   'regiao': 'Região de Saúde Norte',\n",
       "   'instituicao': 'Centro Hospitalar Universitário do Porto, EPE',\n",
       "   'localizacao_geografica': {'lon': -8.6172617, 'lat': 41.1472498},\n",
       "   '1as_consultas_telemedicina': 557,\n",
       "   'consultas_subsequentes_telemedicina': 0,\n",
       "   'total_consultas_telemedicina': 557},\n",
       "  {'tempo': '2020-03',\n",
       "   'regiao': 'Região de Saúde Norte',\n",
       "   'instituicao': 'Centro Hospitalar Trás-os-Montes e Alto Douro, EPE',\n",
       "   'localizacao_geografica': {'lon': -7.7515252, 'lat': 41.3031784},\n",
       "   '1as_consultas_telemedicina': 224,\n",
       "   'consultas_subsequentes_telemedicina': 2,\n",
       "   'total_consultas_telemedicina': 226},\n",
       "  {'tempo': '2020-03',\n",
       "   'regiao': 'Região de Saúde Norte',\n",
       "   'instituicao': 'Instituto Português Oncologia do Porto, EPE',\n",
       "   'localizacao_geografica': {'lon': -8.6062881, 'lat': 41.1785642},\n",
       "   '1as_consultas_telemedicina': 33,\n",
       "   'consultas_subsequentes_telemedicina': 18,\n",
       "   'total_consultas_telemedicina': 51},\n",
       "  {'tempo': '2020-04',\n",
       "   'regiao': 'Região de Saúde do Alentejo',\n",
       "   'instituicao': 'Unidade Local de Saúde do Norte Alentejano, EPE',\n",
       "   'localizacao_geografica': {'lon': -7.4263845, 'lat': 39.3003425},\n",
       "   '1as_consultas_telemedicina': 122,\n",
       "   'consultas_subsequentes_telemedicina': 56,\n",
       "   'total_consultas_telemedicina': 178},\n",
       "  {'tempo': '2020-04',\n",
       "   'regiao': 'Região de Saúde Norte',\n",
       "   'instituicao': 'Centro Hospitalar Universitário de São João, EPE',\n",
       "   'localizacao_geografica': {'lon': -8.6010558, 'lat': 41.1831056},\n",
       "   '1as_consultas_telemedicina': 0,\n",
       "   'consultas_subsequentes_telemedicina': 0,\n",
       "   'total_consultas_telemedicina': 0},\n",
       "  {'tempo': '2020-05',\n",
       "   'regiao': 'Região de Saúde do Alentejo',\n",
       "   'instituicao': 'Unidade Local de Saúde do Baixo Alentejo, EPE',\n",
       "   'localizacao_geografica': {'lon': -7.8721227, 'lat': 38.014123},\n",
       "   '1as_consultas_telemedicina': 441,\n",
       "   'consultas_subsequentes_telemedicina': 2339,\n",
       "   'total_consultas_telemedicina': 2780},\n",
       "  {'tempo': '2020-05',\n",
       "   'regiao': 'Região de Saúde do Alentejo',\n",
       "   'instituicao': 'Unidade Local de Saúde do Norte Alentejano, EPE',\n",
       "   'localizacao_geografica': {'lon': -7.4263845, 'lat': 39.3003425},\n",
       "   '1as_consultas_telemedicina': 132,\n",
       "   'consultas_subsequentes_telemedicina': 86,\n",
       "   'total_consultas_telemedicina': 218},\n",
       "  {'tempo': '2020-05',\n",
       "   'regiao': 'Região de Saúde do Centro',\n",
       "   'instituicao': 'Hospital Arcebispo João Crisóstomo',\n",
       "   'localizacao_geografica': {'lon': -8.5933462, 'lat': 40.3470015},\n",
       "   '1as_consultas_telemedicina': 84,\n",
       "   'consultas_subsequentes_telemedicina': 0,\n",
       "   'total_consultas_telemedicina': 84},\n",
       "  {'tempo': '2020-05',\n",
       "   'regiao': 'Região de Saúde LVT',\n",
       "   'instituicao': 'Centro Hospitalar Médio Tejo, EPE',\n",
       "   'localizacao_geografica': {'lon': -8.5404429, 'lat': 39.478072},\n",
       "   '1as_consultas_telemedicina': 2,\n",
       "   'consultas_subsequentes_telemedicina': 10,\n",
       "   'total_consultas_telemedicina': 12},\n",
       "  {'tempo': '2020-05',\n",
       "   'regiao': 'Região de Saúde Norte',\n",
       "   'instituicao': 'Centro Hospitalar Entre Douro e Vouga, EPE',\n",
       "   'localizacao_geografica': {'lon': -8.5458794, 'lat': 40.9293884},\n",
       "   '1as_consultas_telemedicina': 3,\n",
       "   'consultas_subsequentes_telemedicina': 0,\n",
       "   'total_consultas_telemedicina': 3},\n",
       "  {'tempo': '2020-06',\n",
       "   'regiao': 'Região de Saúde do Alentejo',\n",
       "   'instituicao': 'Unidade Local de Saúde do Norte Alentejano, EPE',\n",
       "   'localizacao_geografica': {'lon': -7.4263845, 'lat': 39.3003425},\n",
       "   '1as_consultas_telemedicina': 144,\n",
       "   'consultas_subsequentes_telemedicina': 101,\n",
       "   'total_consultas_telemedicina': 245},\n",
       "  {'tempo': '2020-06',\n",
       "   'regiao': 'Região de Saúde do Centro',\n",
       "   'instituicao': 'Centro Hospitalar Universitário Cova da Beira, EPE',\n",
       "   'localizacao_geografica': {'lon': -7.4922407, 'lat': 40.2804158},\n",
       "   '1as_consultas_telemedicina': 121,\n",
       "   'consultas_subsequentes_telemedicina': 36,\n",
       "   'total_consultas_telemedicina': 157},\n",
       "  {'tempo': '2020-06',\n",
       "   'regiao': 'Região de Saúde LVT',\n",
       "   'instituicao': 'Centro Hospitalar de Setúbal, EPE',\n",
       "   'localizacao_geografica': {'lon': -8.8818638, 'lat': 38.5283754},\n",
       "   '1as_consultas_telemedicina': 0,\n",
       "   'consultas_subsequentes_telemedicina': 0,\n",
       "   'total_consultas_telemedicina': 0},\n",
       "  {'tempo': '2020-06',\n",
       "   'regiao': 'Região de Saúde Norte',\n",
       "   'instituicao': 'Centro Hospitalar Universitário do Porto, EPE',\n",
       "   'localizacao_geografica': {'lon': -8.6172617, 'lat': 41.1472498},\n",
       "   '1as_consultas_telemedicina': 889,\n",
       "   'consultas_subsequentes_telemedicina': 0,\n",
       "   'total_consultas_telemedicina': 889},\n",
       "  {'tempo': '2020-06',\n",
       "   'regiao': 'Região de Saúde Norte',\n",
       "   'instituicao': 'Hospital de Braga, EPE',\n",
       "   'localizacao_geografica': {'lon': -8.398982, 'lat': 41.56785},\n",
       "   '1as_consultas_telemedicina': 2907,\n",
       "   'consultas_subsequentes_telemedicina': None,\n",
       "   'total_consultas_telemedicina': 2907}]}"
      ]
     },
     "execution_count": 3,
     "metadata": {},
     "output_type": "execute_result"
    }
   ],
   "source": [
    "# Getting my data\n",
    "df = response.json()\n",
    "df"
   ]
  },
  {
   "cell_type": "code",
   "execution_count": 4,
   "id": "2d9b5f65",
   "metadata": {
    "scrolled": true
   },
   "outputs": [
    {
     "data": {
      "text/html": [
       "<div>\n",
       "<style scoped>\n",
       "    .dataframe tbody tr th:only-of-type {\n",
       "        vertical-align: middle;\n",
       "    }\n",
       "\n",
       "    .dataframe tbody tr th {\n",
       "        vertical-align: top;\n",
       "    }\n",
       "\n",
       "    .dataframe thead th {\n",
       "        text-align: right;\n",
       "    }\n",
       "</style>\n",
       "<table border=\"1\" class=\"dataframe\">\n",
       "  <thead>\n",
       "    <tr style=\"text-align: right;\">\n",
       "      <th></th>\n",
       "      <th>tempo</th>\n",
       "      <th>regiao</th>\n",
       "      <th>instituicao</th>\n",
       "      <th>1as_consultas_telemedicina</th>\n",
       "      <th>consultas_subsequentes_telemedicina</th>\n",
       "      <th>total_consultas_telemedicina</th>\n",
       "      <th>localizacao_geografica.lon</th>\n",
       "      <th>localizacao_geografica.lat</th>\n",
       "    </tr>\n",
       "  </thead>\n",
       "  <tbody>\n",
       "    <tr>\n",
       "      <th>0</th>\n",
       "      <td>2020-01</td>\n",
       "      <td>Região de Saúde do Alentejo</td>\n",
       "      <td>Unidade Local de Saúde do Baixo Alentejo, EPE</td>\n",
       "      <td>0</td>\n",
       "      <td>0.0</td>\n",
       "      <td>0</td>\n",
       "      <td>-7.872123</td>\n",
       "      <td>38.014123</td>\n",
       "    </tr>\n",
       "    <tr>\n",
       "      <th>1</th>\n",
       "      <td>2020-02</td>\n",
       "      <td>Região de Saúde do Algarve</td>\n",
       "      <td>Centro Hospitalar Universitário do Algarve,EPE</td>\n",
       "      <td>0</td>\n",
       "      <td>0.0</td>\n",
       "      <td>0</td>\n",
       "      <td>-7.928155</td>\n",
       "      <td>37.023897</td>\n",
       "    </tr>\n",
       "    <tr>\n",
       "      <th>2</th>\n",
       "      <td>2020-02</td>\n",
       "      <td>Região de Saúde do Centro</td>\n",
       "      <td>Centro Hospitalar de Leiria, EPE</td>\n",
       "      <td>29</td>\n",
       "      <td>32.0</td>\n",
       "      <td>61</td>\n",
       "      <td>-8.798271</td>\n",
       "      <td>39.741481</td>\n",
       "    </tr>\n",
       "    <tr>\n",
       "      <th>3</th>\n",
       "      <td>2020-02</td>\n",
       "      <td>Região de Saúde LVT</td>\n",
       "      <td>Centro Hospitalar Médio Tejo, EPE</td>\n",
       "      <td>1</td>\n",
       "      <td>8.0</td>\n",
       "      <td>9</td>\n",
       "      <td>-8.540443</td>\n",
       "      <td>39.478072</td>\n",
       "    </tr>\n",
       "    <tr>\n",
       "      <th>4</th>\n",
       "      <td>2020-03</td>\n",
       "      <td>Região de Saúde do Centro</td>\n",
       "      <td>Centro Hospitalar de Leiria, EPE</td>\n",
       "      <td>55</td>\n",
       "      <td>65.0</td>\n",
       "      <td>120</td>\n",
       "      <td>-8.798271</td>\n",
       "      <td>39.741481</td>\n",
       "    </tr>\n",
       "  </tbody>\n",
       "</table>\n",
       "</div>"
      ],
      "text/plain": [
       "     tempo                       regiao  \\\n",
       "0  2020-01  Região de Saúde do Alentejo   \n",
       "1  2020-02   Região de Saúde do Algarve   \n",
       "2  2020-02    Região de Saúde do Centro   \n",
       "3  2020-02          Região de Saúde LVT   \n",
       "4  2020-03    Região de Saúde do Centro   \n",
       "\n",
       "                                      instituicao  1as_consultas_telemedicina  \\\n",
       "0   Unidade Local de Saúde do Baixo Alentejo, EPE                           0   \n",
       "1  Centro Hospitalar Universitário do Algarve,EPE                           0   \n",
       "2                Centro Hospitalar de Leiria, EPE                          29   \n",
       "3               Centro Hospitalar Médio Tejo, EPE                           1   \n",
       "4                Centro Hospitalar de Leiria, EPE                          55   \n",
       "\n",
       "   consultas_subsequentes_telemedicina  total_consultas_telemedicina  \\\n",
       "0                                  0.0                             0   \n",
       "1                                  0.0                             0   \n",
       "2                                 32.0                            61   \n",
       "3                                  8.0                             9   \n",
       "4                                 65.0                           120   \n",
       "\n",
       "   localizacao_geografica.lon  localizacao_geografica.lat  \n",
       "0                   -7.872123                   38.014123  \n",
       "1                   -7.928155                   37.023897  \n",
       "2                   -8.798271                   39.741481  \n",
       "3                   -8.540443                   39.478072  \n",
       "4                   -8.798271                   39.741481  "
      ]
     },
     "execution_count": 4,
     "metadata": {},
     "output_type": "execute_result"
    }
   ],
   "source": [
    "# Normalizing data due to be enclosed inside a dictionary which key is 'results'\n",
    "df = pd.json_normalize(df, 'results')\n",
    "df.head()"
   ]
  },
  {
   "cell_type": "code",
   "execution_count": 5,
   "id": "21fa7162",
   "metadata": {},
   "outputs": [
    {
     "name": "stdout",
     "output_type": "stream",
     "text": [
      "<class 'pandas.core.frame.DataFrame'>\n"
     ]
    }
   ],
   "source": [
    "#Confirmin that my data is indeed a DataFrame\n",
    "print(type(df))"
   ]
  },
  {
   "cell_type": "code",
   "execution_count": 6,
   "id": "5a667ff6",
   "metadata": {},
   "outputs": [],
   "source": [
    "#Saving a copy of my original data\n",
    "df_copy = df.copy()"
   ]
  },
  {
   "cell_type": "markdown",
   "id": "2aeceb10",
   "metadata": {},
   "source": [
    "# DATA CLEANING AND WRANGLING/EDA"
   ]
  },
  {
   "cell_type": "code",
   "execution_count": 7,
   "id": "76bc9149",
   "metadata": {},
   "outputs": [],
   "source": [
    "#Setting my display option for my dataframe\n",
    "pd.set_option('display.max_colwidth', None)"
   ]
  },
  {
   "cell_type": "code",
   "execution_count": 8,
   "id": "246c31be",
   "metadata": {},
   "outputs": [
    {
     "data": {
      "text/plain": [
       "tempo                                   object\n",
       "regiao                                  object\n",
       "instituicao                             object\n",
       "1as_consultas_telemedicina               int64\n",
       "consultas_subsequentes_telemedicina    float64\n",
       "total_consultas_telemedicina             int64\n",
       "localizacao_geografica.lon             float64\n",
       "localizacao_geografica.lat             float64\n",
       "dtype: object"
      ]
     },
     "execution_count": 8,
     "metadata": {},
     "output_type": "execute_result"
    }
   ],
   "source": [
    "#Checking for data types\n",
    "df.dtypes"
   ]
  },
  {
   "cell_type": "code",
   "execution_count": 9,
   "id": "f9ba1969",
   "metadata": {},
   "outputs": [
    {
     "data": {
      "text/html": [
       "<div>\n",
       "<style scoped>\n",
       "    .dataframe tbody tr th:only-of-type {\n",
       "        vertical-align: middle;\n",
       "    }\n",
       "\n",
       "    .dataframe tbody tr th {\n",
       "        vertical-align: top;\n",
       "    }\n",
       "\n",
       "    .dataframe thead th {\n",
       "        text-align: right;\n",
       "    }\n",
       "</style>\n",
       "<table border=\"1\" class=\"dataframe\">\n",
       "  <thead>\n",
       "    <tr style=\"text-align: right;\">\n",
       "      <th></th>\n",
       "      <th>tempo</th>\n",
       "      <th>regiao</th>\n",
       "      <th>instituicao</th>\n",
       "      <th>1as_consultas_telemedicina</th>\n",
       "      <th>consultas_subsequentes_telemedicina</th>\n",
       "      <th>total_consultas_telemedicina</th>\n",
       "      <th>localizacao_geografica.lon</th>\n",
       "      <th>localizacao_geografica.lat</th>\n",
       "      <th>coordenadas</th>\n",
       "    </tr>\n",
       "  </thead>\n",
       "  <tbody>\n",
       "    <tr>\n",
       "      <th>0</th>\n",
       "      <td>2020-01</td>\n",
       "      <td>Região de Saúde do Alentejo</td>\n",
       "      <td>Unidade Local de Saúde do Baixo Alentejo, EPE</td>\n",
       "      <td>0</td>\n",
       "      <td>0.0</td>\n",
       "      <td>0</td>\n",
       "      <td>-7.872123</td>\n",
       "      <td>38.014123</td>\n",
       "      <td>38.014123, -7.8721227</td>\n",
       "    </tr>\n",
       "    <tr>\n",
       "      <th>1</th>\n",
       "      <td>2020-02</td>\n",
       "      <td>Região de Saúde do Algarve</td>\n",
       "      <td>Centro Hospitalar Universitário do Algarve,EPE</td>\n",
       "      <td>0</td>\n",
       "      <td>0.0</td>\n",
       "      <td>0</td>\n",
       "      <td>-7.928155</td>\n",
       "      <td>37.023897</td>\n",
       "      <td>37.0238973, -7.9281554</td>\n",
       "    </tr>\n",
       "    <tr>\n",
       "      <th>2</th>\n",
       "      <td>2020-02</td>\n",
       "      <td>Região de Saúde do Centro</td>\n",
       "      <td>Centro Hospitalar de Leiria, EPE</td>\n",
       "      <td>29</td>\n",
       "      <td>32.0</td>\n",
       "      <td>61</td>\n",
       "      <td>-8.798271</td>\n",
       "      <td>39.741481</td>\n",
       "      <td>39.7414812, -8.7982706</td>\n",
       "    </tr>\n",
       "    <tr>\n",
       "      <th>3</th>\n",
       "      <td>2020-02</td>\n",
       "      <td>Região de Saúde LVT</td>\n",
       "      <td>Centro Hospitalar Médio Tejo, EPE</td>\n",
       "      <td>1</td>\n",
       "      <td>8.0</td>\n",
       "      <td>9</td>\n",
       "      <td>-8.540443</td>\n",
       "      <td>39.478072</td>\n",
       "      <td>39.478072, -8.5404429</td>\n",
       "    </tr>\n",
       "    <tr>\n",
       "      <th>4</th>\n",
       "      <td>2020-03</td>\n",
       "      <td>Região de Saúde do Centro</td>\n",
       "      <td>Centro Hospitalar de Leiria, EPE</td>\n",
       "      <td>55</td>\n",
       "      <td>65.0</td>\n",
       "      <td>120</td>\n",
       "      <td>-8.798271</td>\n",
       "      <td>39.741481</td>\n",
       "      <td>39.7414812, -8.7982706</td>\n",
       "    </tr>\n",
       "  </tbody>\n",
       "</table>\n",
       "</div>"
      ],
      "text/plain": [
       "     tempo                       regiao  \\\n",
       "0  2020-01  Região de Saúde do Alentejo   \n",
       "1  2020-02   Região de Saúde do Algarve   \n",
       "2  2020-02    Região de Saúde do Centro   \n",
       "3  2020-02          Região de Saúde LVT   \n",
       "4  2020-03    Região de Saúde do Centro   \n",
       "\n",
       "                                      instituicao  1as_consultas_telemedicina  \\\n",
       "0   Unidade Local de Saúde do Baixo Alentejo, EPE                           0   \n",
       "1  Centro Hospitalar Universitário do Algarve,EPE                           0   \n",
       "2                Centro Hospitalar de Leiria, EPE                          29   \n",
       "3               Centro Hospitalar Médio Tejo, EPE                           1   \n",
       "4                Centro Hospitalar de Leiria, EPE                          55   \n",
       "\n",
       "   consultas_subsequentes_telemedicina  total_consultas_telemedicina  \\\n",
       "0                                  0.0                             0   \n",
       "1                                  0.0                             0   \n",
       "2                                 32.0                            61   \n",
       "3                                  8.0                             9   \n",
       "4                                 65.0                           120   \n",
       "\n",
       "   localizacao_geografica.lon  localizacao_geografica.lat  \\\n",
       "0                   -7.872123                   38.014123   \n",
       "1                   -7.928155                   37.023897   \n",
       "2                   -8.798271                   39.741481   \n",
       "3                   -8.540443                   39.478072   \n",
       "4                   -8.798271                   39.741481   \n",
       "\n",
       "              coordenadas  \n",
       "0   38.014123, -7.8721227  \n",
       "1  37.0238973, -7.9281554  \n",
       "2  39.7414812, -8.7982706  \n",
       "3   39.478072, -8.5404429  \n",
       "4  39.7414812, -8.7982706  "
      ]
     },
     "execution_count": 9,
     "metadata": {},
     "output_type": "execute_result"
    }
   ],
   "source": [
    "# Merging 'localizacao_geografica.lon' + 'localizacao_geografica.lat' in a new single column\n",
    "df['coordenadas'] = df['localizacao_geografica.lat'].astype(str) + \", \" + df['localizacao_geografica.lon'].astype(str)\n",
    "df.head(5)"
   ]
  },
  {
   "cell_type": "code",
   "execution_count": 10,
   "id": "d26d7eb7",
   "metadata": {},
   "outputs": [],
   "source": [
    "#Change my 'data' to datetime format\n",
    "df['tempo'] = pd.to_datetime(df['tempo'])"
   ]
  },
  {
   "cell_type": "code",
   "execution_count": 11,
   "id": "19a6036f",
   "metadata": {},
   "outputs": [
    {
     "data": {
      "text/plain": [
       "tempo                                  datetime64[ns]\n",
       "regiao                                         object\n",
       "instituicao                                    object\n",
       "1as_consultas_telemedicina                      int64\n",
       "consultas_subsequentes_telemedicina           float64\n",
       "total_consultas_telemedicina                    int64\n",
       "localizacao_geografica.lon                    float64\n",
       "localizacao_geografica.lat                    float64\n",
       "coordenadas                                    object\n",
       "dtype: object"
      ]
     },
     "execution_count": 11,
     "metadata": {},
     "output_type": "execute_result"
    }
   ],
   "source": [
    "#Checking this change\n",
    "df.dtypes"
   ]
  },
  {
   "cell_type": "code",
   "execution_count": 12,
   "id": "8d966b96",
   "metadata": {},
   "outputs": [],
   "source": [
    "# Extracting month and year from 'data'\n",
    "df['ano'] = df['tempo'].dt.year\n",
    "df['mês'] = df['tempo'].dt.month"
   ]
  },
  {
   "cell_type": "code",
   "execution_count": 13,
   "id": "8cd449a3",
   "metadata": {
    "scrolled": true
   },
   "outputs": [
    {
     "data": {
      "text/html": [
       "<div>\n",
       "<style scoped>\n",
       "    .dataframe tbody tr th:only-of-type {\n",
       "        vertical-align: middle;\n",
       "    }\n",
       "\n",
       "    .dataframe tbody tr th {\n",
       "        vertical-align: top;\n",
       "    }\n",
       "\n",
       "    .dataframe thead th {\n",
       "        text-align: right;\n",
       "    }\n",
       "</style>\n",
       "<table border=\"1\" class=\"dataframe\">\n",
       "  <thead>\n",
       "    <tr style=\"text-align: right;\">\n",
       "      <th></th>\n",
       "      <th>regiao</th>\n",
       "      <th>instituicao</th>\n",
       "      <th>1as_consultas_telemedicina</th>\n",
       "      <th>consultas_subsequentes_telemedicina</th>\n",
       "      <th>total_consultas_telemedicina</th>\n",
       "      <th>coordenadas</th>\n",
       "      <th>ano</th>\n",
       "      <th>mês</th>\n",
       "    </tr>\n",
       "  </thead>\n",
       "  <tbody>\n",
       "    <tr>\n",
       "      <th>0</th>\n",
       "      <td>Região de Saúde do Alentejo</td>\n",
       "      <td>Unidade Local de Saúde do Baixo Alentejo, EPE</td>\n",
       "      <td>0</td>\n",
       "      <td>0.0</td>\n",
       "      <td>0</td>\n",
       "      <td>38.014123, -7.8721227</td>\n",
       "      <td>2020</td>\n",
       "      <td>1</td>\n",
       "    </tr>\n",
       "    <tr>\n",
       "      <th>1</th>\n",
       "      <td>Região de Saúde do Algarve</td>\n",
       "      <td>Centro Hospitalar Universitário do Algarve,EPE</td>\n",
       "      <td>0</td>\n",
       "      <td>0.0</td>\n",
       "      <td>0</td>\n",
       "      <td>37.0238973, -7.9281554</td>\n",
       "      <td>2020</td>\n",
       "      <td>2</td>\n",
       "    </tr>\n",
       "    <tr>\n",
       "      <th>2</th>\n",
       "      <td>Região de Saúde do Centro</td>\n",
       "      <td>Centro Hospitalar de Leiria, EPE</td>\n",
       "      <td>29</td>\n",
       "      <td>32.0</td>\n",
       "      <td>61</td>\n",
       "      <td>39.7414812, -8.7982706</td>\n",
       "      <td>2020</td>\n",
       "      <td>2</td>\n",
       "    </tr>\n",
       "    <tr>\n",
       "      <th>3</th>\n",
       "      <td>Região de Saúde LVT</td>\n",
       "      <td>Centro Hospitalar Médio Tejo, EPE</td>\n",
       "      <td>1</td>\n",
       "      <td>8.0</td>\n",
       "      <td>9</td>\n",
       "      <td>39.478072, -8.5404429</td>\n",
       "      <td>2020</td>\n",
       "      <td>2</td>\n",
       "    </tr>\n",
       "    <tr>\n",
       "      <th>4</th>\n",
       "      <td>Região de Saúde do Centro</td>\n",
       "      <td>Centro Hospitalar de Leiria, EPE</td>\n",
       "      <td>55</td>\n",
       "      <td>65.0</td>\n",
       "      <td>120</td>\n",
       "      <td>39.7414812, -8.7982706</td>\n",
       "      <td>2020</td>\n",
       "      <td>3</td>\n",
       "    </tr>\n",
       "  </tbody>\n",
       "</table>\n",
       "</div>"
      ],
      "text/plain": [
       "                        regiao  \\\n",
       "0  Região de Saúde do Alentejo   \n",
       "1   Região de Saúde do Algarve   \n",
       "2    Região de Saúde do Centro   \n",
       "3          Região de Saúde LVT   \n",
       "4    Região de Saúde do Centro   \n",
       "\n",
       "                                      instituicao  1as_consultas_telemedicina  \\\n",
       "0   Unidade Local de Saúde do Baixo Alentejo, EPE                           0   \n",
       "1  Centro Hospitalar Universitário do Algarve,EPE                           0   \n",
       "2                Centro Hospitalar de Leiria, EPE                          29   \n",
       "3               Centro Hospitalar Médio Tejo, EPE                           1   \n",
       "4                Centro Hospitalar de Leiria, EPE                          55   \n",
       "\n",
       "   consultas_subsequentes_telemedicina  total_consultas_telemedicina  \\\n",
       "0                                  0.0                             0   \n",
       "1                                  0.0                             0   \n",
       "2                                 32.0                            61   \n",
       "3                                  8.0                             9   \n",
       "4                                 65.0                           120   \n",
       "\n",
       "              coordenadas   ano  mês  \n",
       "0   38.014123, -7.8721227  2020    1  \n",
       "1  37.0238973, -7.9281554  2020    2  \n",
       "2  39.7414812, -8.7982706  2020    2  \n",
       "3   39.478072, -8.5404429  2020    2  \n",
       "4  39.7414812, -8.7982706  2020    3  "
      ]
     },
     "execution_count": 13,
     "metadata": {},
     "output_type": "execute_result"
    }
   ],
   "source": [
    "# Dropping the original 'localizacao_geografica.lon' and 'localizacao_geografica.lat' columns\n",
    "data = df.drop(['localizacao_geografica.lat', 'localizacao_geografica.lon', 'tempo'], axis=1)\n",
    "data.head()"
   ]
  },
  {
   "cell_type": "code",
   "execution_count": 14,
   "id": "684e2a5e",
   "metadata": {},
   "outputs": [
    {
     "data": {
      "text/html": [
       "<div>\n",
       "<style scoped>\n",
       "    .dataframe tbody tr th:only-of-type {\n",
       "        vertical-align: middle;\n",
       "    }\n",
       "\n",
       "    .dataframe tbody tr th {\n",
       "        vertical-align: top;\n",
       "    }\n",
       "\n",
       "    .dataframe thead th {\n",
       "        text-align: right;\n",
       "    }\n",
       "</style>\n",
       "<table border=\"1\" class=\"dataframe\">\n",
       "  <thead>\n",
       "    <tr style=\"text-align: right;\">\n",
       "      <th></th>\n",
       "      <th>região</th>\n",
       "      <th>instituição</th>\n",
       "      <th>1as_consultas</th>\n",
       "      <th>consultas_subsequentes</th>\n",
       "      <th>total_consultas</th>\n",
       "      <th>coordenadas</th>\n",
       "      <th>ano</th>\n",
       "      <th>mês</th>\n",
       "    </tr>\n",
       "  </thead>\n",
       "  <tbody>\n",
       "    <tr>\n",
       "      <th>0</th>\n",
       "      <td>Região de Saúde do Alentejo</td>\n",
       "      <td>Unidade Local de Saúde do Baixo Alentejo, EPE</td>\n",
       "      <td>0</td>\n",
       "      <td>0.0</td>\n",
       "      <td>0</td>\n",
       "      <td>38.014123, -7.8721227</td>\n",
       "      <td>2020</td>\n",
       "      <td>1</td>\n",
       "    </tr>\n",
       "    <tr>\n",
       "      <th>1</th>\n",
       "      <td>Região de Saúde do Algarve</td>\n",
       "      <td>Centro Hospitalar Universitário do Algarve,EPE</td>\n",
       "      <td>0</td>\n",
       "      <td>0.0</td>\n",
       "      <td>0</td>\n",
       "      <td>37.0238973, -7.9281554</td>\n",
       "      <td>2020</td>\n",
       "      <td>2</td>\n",
       "    </tr>\n",
       "    <tr>\n",
       "      <th>2</th>\n",
       "      <td>Região de Saúde do Centro</td>\n",
       "      <td>Centro Hospitalar de Leiria, EPE</td>\n",
       "      <td>29</td>\n",
       "      <td>32.0</td>\n",
       "      <td>61</td>\n",
       "      <td>39.7414812, -8.7982706</td>\n",
       "      <td>2020</td>\n",
       "      <td>2</td>\n",
       "    </tr>\n",
       "    <tr>\n",
       "      <th>3</th>\n",
       "      <td>Região de Saúde LVT</td>\n",
       "      <td>Centro Hospitalar Médio Tejo, EPE</td>\n",
       "      <td>1</td>\n",
       "      <td>8.0</td>\n",
       "      <td>9</td>\n",
       "      <td>39.478072, -8.5404429</td>\n",
       "      <td>2020</td>\n",
       "      <td>2</td>\n",
       "    </tr>\n",
       "    <tr>\n",
       "      <th>4</th>\n",
       "      <td>Região de Saúde do Centro</td>\n",
       "      <td>Centro Hospitalar de Leiria, EPE</td>\n",
       "      <td>55</td>\n",
       "      <td>65.0</td>\n",
       "      <td>120</td>\n",
       "      <td>39.7414812, -8.7982706</td>\n",
       "      <td>2020</td>\n",
       "      <td>3</td>\n",
       "    </tr>\n",
       "  </tbody>\n",
       "</table>\n",
       "</div>"
      ],
      "text/plain": [
       "                        região  \\\n",
       "0  Região de Saúde do Alentejo   \n",
       "1   Região de Saúde do Algarve   \n",
       "2    Região de Saúde do Centro   \n",
       "3          Região de Saúde LVT   \n",
       "4    Região de Saúde do Centro   \n",
       "\n",
       "                                      instituição  1as_consultas  \\\n",
       "0   Unidade Local de Saúde do Baixo Alentejo, EPE              0   \n",
       "1  Centro Hospitalar Universitário do Algarve,EPE              0   \n",
       "2                Centro Hospitalar de Leiria, EPE             29   \n",
       "3               Centro Hospitalar Médio Tejo, EPE              1   \n",
       "4                Centro Hospitalar de Leiria, EPE             55   \n",
       "\n",
       "   consultas_subsequentes  total_consultas             coordenadas   ano  mês  \n",
       "0                     0.0                0   38.014123, -7.8721227  2020    1  \n",
       "1                     0.0                0  37.0238973, -7.9281554  2020    2  \n",
       "2                    32.0               61  39.7414812, -8.7982706  2020    2  \n",
       "3                     8.0                9   39.478072, -8.5404429  2020    2  \n",
       "4                    65.0              120  39.7414812, -8.7982706  2020    3  "
      ]
     },
     "execution_count": 14,
     "metadata": {},
     "output_type": "execute_result"
    }
   ],
   "source": [
    "# Renaming my dataframe columns\n",
    "data.columns = data.columns.str.replace('_telemedicina', '')\n",
    "data_columns = {'tempo':'data','regiao':'região','instituicao':'instituição'}\n",
    "data = data.rename(columns = data_columns)\n",
    "data.head()"
   ]
  },
  {
   "cell_type": "code",
   "execution_count": 15,
   "id": "764ae2be",
   "metadata": {},
   "outputs": [
    {
     "data": {
      "text/plain": [
       "região                     object\n",
       "instituição                object\n",
       "1as_consultas               int64\n",
       "consultas_subsequentes    float64\n",
       "total_consultas             int64\n",
       "coordenadas                object\n",
       "ano                         int32\n",
       "mês                         int32\n",
       "dtype: object"
      ]
     },
     "execution_count": 15,
     "metadata": {},
     "output_type": "execute_result"
    }
   ],
   "source": [
    "#Checking data types\n",
    "data.dtypes"
   ]
  },
  {
   "cell_type": "code",
   "execution_count": 16,
   "id": "a45b6843",
   "metadata": {},
   "outputs": [
    {
     "data": {
      "text/plain": [
       "região                     5\n",
       "instituição               14\n",
       "1as_consultas             17\n",
       "consultas_subsequentes    12\n",
       "total_consultas           17\n",
       "coordenadas               14\n",
       "ano                        1\n",
       "mês                        6\n",
       "dtype: int64"
      ]
     },
     "execution_count": 16,
     "metadata": {},
     "output_type": "execute_result"
    }
   ],
   "source": [
    "# Checking for unique values\n",
    "data.nunique()"
   ]
  },
  {
   "cell_type": "code",
   "execution_count": 17,
   "id": "b9390be4",
   "metadata": {},
   "outputs": [
    {
     "data": {
      "text/plain": [
       "array(['Região de Saúde do Alentejo', 'Região de Saúde do Algarve',\n",
       "       'Região de Saúde do Centro', 'Região de Saúde LVT',\n",
       "       'Região de Saúde Norte'], dtype=object)"
      ]
     },
     "execution_count": 17,
     "metadata": {},
     "output_type": "execute_result"
    }
   ],
   "source": [
    "unique_regiao= data['região'].unique()\n",
    "unique_regiao"
   ]
  },
  {
   "cell_type": "code",
   "execution_count": 18,
   "id": "f4576a6d",
   "metadata": {},
   "outputs": [
    {
     "data": {
      "text/html": [
       "<div>\n",
       "<style scoped>\n",
       "    .dataframe tbody tr th:only-of-type {\n",
       "        vertical-align: middle;\n",
       "    }\n",
       "\n",
       "    .dataframe tbody tr th {\n",
       "        vertical-align: top;\n",
       "    }\n",
       "\n",
       "    .dataframe thead th {\n",
       "        text-align: right;\n",
       "    }\n",
       "</style>\n",
       "<table border=\"1\" class=\"dataframe\">\n",
       "  <thead>\n",
       "    <tr style=\"text-align: right;\">\n",
       "      <th></th>\n",
       "      <th>região</th>\n",
       "      <th>instituição</th>\n",
       "      <th>1as_consultas</th>\n",
       "      <th>consultas_subsequentes</th>\n",
       "      <th>total_consultas</th>\n",
       "      <th>coordenadas</th>\n",
       "      <th>ano</th>\n",
       "      <th>mês</th>\n",
       "      <th>código_região</th>\n",
       "    </tr>\n",
       "  </thead>\n",
       "  <tbody>\n",
       "    <tr>\n",
       "      <th>0</th>\n",
       "      <td>Região de Saúde do Alentejo</td>\n",
       "      <td>Unidade Local de Saúde do Baixo Alentejo, EPE</td>\n",
       "      <td>0</td>\n",
       "      <td>0.0</td>\n",
       "      <td>0</td>\n",
       "      <td>38.014123, -7.8721227</td>\n",
       "      <td>2020</td>\n",
       "      <td>1</td>\n",
       "      <td>4</td>\n",
       "    </tr>\n",
       "    <tr>\n",
       "      <th>1</th>\n",
       "      <td>Região de Saúde do Algarve</td>\n",
       "      <td>Centro Hospitalar Universitário do Algarve,EPE</td>\n",
       "      <td>0</td>\n",
       "      <td>0.0</td>\n",
       "      <td>0</td>\n",
       "      <td>37.0238973, -7.9281554</td>\n",
       "      <td>2020</td>\n",
       "      <td>2</td>\n",
       "      <td>5</td>\n",
       "    </tr>\n",
       "    <tr>\n",
       "      <th>2</th>\n",
       "      <td>Região de Saúde do Centro</td>\n",
       "      <td>Centro Hospitalar de Leiria, EPE</td>\n",
       "      <td>29</td>\n",
       "      <td>32.0</td>\n",
       "      <td>61</td>\n",
       "      <td>39.7414812, -8.7982706</td>\n",
       "      <td>2020</td>\n",
       "      <td>2</td>\n",
       "      <td>2</td>\n",
       "    </tr>\n",
       "    <tr>\n",
       "      <th>3</th>\n",
       "      <td>Região de Saúde LVT</td>\n",
       "      <td>Centro Hospitalar Médio Tejo, EPE</td>\n",
       "      <td>1</td>\n",
       "      <td>8.0</td>\n",
       "      <td>9</td>\n",
       "      <td>39.478072, -8.5404429</td>\n",
       "      <td>2020</td>\n",
       "      <td>2</td>\n",
       "      <td>3</td>\n",
       "    </tr>\n",
       "    <tr>\n",
       "      <th>4</th>\n",
       "      <td>Região de Saúde do Centro</td>\n",
       "      <td>Centro Hospitalar de Leiria, EPE</td>\n",
       "      <td>55</td>\n",
       "      <td>65.0</td>\n",
       "      <td>120</td>\n",
       "      <td>39.7414812, -8.7982706</td>\n",
       "      <td>2020</td>\n",
       "      <td>3</td>\n",
       "      <td>2</td>\n",
       "    </tr>\n",
       "  </tbody>\n",
       "</table>\n",
       "</div>"
      ],
      "text/plain": [
       "                        região  \\\n",
       "0  Região de Saúde do Alentejo   \n",
       "1   Região de Saúde do Algarve   \n",
       "2    Região de Saúde do Centro   \n",
       "3          Região de Saúde LVT   \n",
       "4    Região de Saúde do Centro   \n",
       "\n",
       "                                      instituição  1as_consultas  \\\n",
       "0   Unidade Local de Saúde do Baixo Alentejo, EPE              0   \n",
       "1  Centro Hospitalar Universitário do Algarve,EPE              0   \n",
       "2                Centro Hospitalar de Leiria, EPE             29   \n",
       "3               Centro Hospitalar Médio Tejo, EPE              1   \n",
       "4                Centro Hospitalar de Leiria, EPE             55   \n",
       "\n",
       "   consultas_subsequentes  total_consultas             coordenadas   ano  mês  \\\n",
       "0                     0.0                0   38.014123, -7.8721227  2020    1   \n",
       "1                     0.0                0  37.0238973, -7.9281554  2020    2   \n",
       "2                    32.0               61  39.7414812, -8.7982706  2020    2   \n",
       "3                     8.0                9   39.478072, -8.5404429  2020    2   \n",
       "4                    65.0              120  39.7414812, -8.7982706  2020    3   \n",
       "\n",
       "   código_região  \n",
       "0              4  \n",
       "1              5  \n",
       "2              2  \n",
       "3              3  \n",
       "4              2  "
      ]
     },
     "execution_count": 18,
     "metadata": {},
     "output_type": "execute_result"
    }
   ],
   "source": [
    "# Defining my region to a code number\n",
    "region_to_code = {\n",
    "    'Região de Saúde do Alentejo': 4,\n",
    "    'Região de Saúde do Algarve': 5,\n",
    "    'Região de Saúde do Centro': 2,\n",
    "    'Região de Saúde LVT': 3,\n",
    "    'Região de Saúde Norte': 1\n",
    "}\n",
    "\n",
    "#Getting a new column with the region code\n",
    "data['código_região'] = data['região'].map(region_to_code)\n",
    "data.head()"
   ]
  },
  {
   "cell_type": "code",
   "execution_count": 19,
   "id": "47c03f97",
   "metadata": {},
   "outputs": [
    {
     "data": {
      "text/plain": [
       "False"
      ]
     },
     "execution_count": 19,
     "metadata": {},
     "output_type": "execute_result"
    }
   ],
   "source": [
    "#Checking for duplicate values\n",
    "duplicates = data.duplicated().any()\n",
    "duplicates"
   ]
  },
  {
   "cell_type": "code",
   "execution_count": 20,
   "id": "c9475134",
   "metadata": {},
   "outputs": [
    {
     "data": {
      "text/plain": [
       "região                    0\n",
       "instituição               0\n",
       "1as_consultas             0\n",
       "consultas_subsequentes    1\n",
       "total_consultas           0\n",
       "coordenadas               0\n",
       "ano                       0\n",
       "mês                       0\n",
       "código_região             0\n",
       "dtype: int64"
      ]
     },
     "execution_count": 20,
     "metadata": {},
     "output_type": "execute_result"
    }
   ],
   "source": [
    "#Checking for null values\n",
    "null_counts = data.isnull().sum()\n",
    "null_counts"
   ]
  },
  {
   "cell_type": "code",
   "execution_count": 21,
   "id": "1c10ecef",
   "metadata": {},
   "outputs": [
    {
     "data": {
      "text/html": [
       "<div>\n",
       "<style scoped>\n",
       "    .dataframe tbody tr th:only-of-type {\n",
       "        vertical-align: middle;\n",
       "    }\n",
       "\n",
       "    .dataframe tbody tr th {\n",
       "        vertical-align: top;\n",
       "    }\n",
       "\n",
       "    .dataframe thead th {\n",
       "        text-align: right;\n",
       "    }\n",
       "</style>\n",
       "<table border=\"1\" class=\"dataframe\">\n",
       "  <thead>\n",
       "    <tr style=\"text-align: right;\">\n",
       "      <th></th>\n",
       "      <th>1as_consultas</th>\n",
       "      <th>consultas_subsequentes</th>\n",
       "      <th>total_consultas</th>\n",
       "      <th>ano</th>\n",
       "      <th>mês</th>\n",
       "      <th>código_região</th>\n",
       "    </tr>\n",
       "  </thead>\n",
       "  <tbody>\n",
       "    <tr>\n",
       "      <th>count</th>\n",
       "      <td>20.00</td>\n",
       "      <td>19.00</td>\n",
       "      <td>20.00</td>\n",
       "      <td>20.0</td>\n",
       "      <td>20.00</td>\n",
       "      <td>20.00</td>\n",
       "    </tr>\n",
       "    <tr>\n",
       "      <th>mean</th>\n",
       "      <td>287.20</td>\n",
       "      <td>144.89</td>\n",
       "      <td>424.85</td>\n",
       "      <td>2020.0</td>\n",
       "      <td>4.10</td>\n",
       "      <td>2.45</td>\n",
       "    </tr>\n",
       "    <tr>\n",
       "      <th>std</th>\n",
       "      <td>657.98</td>\n",
       "      <td>532.28</td>\n",
       "      <td>855.71</td>\n",
       "      <td>0.0</td>\n",
       "      <td>1.62</td>\n",
       "      <td>1.36</td>\n",
       "    </tr>\n",
       "    <tr>\n",
       "      <th>min</th>\n",
       "      <td>0.00</td>\n",
       "      <td>0.00</td>\n",
       "      <td>0.00</td>\n",
       "      <td>2020.0</td>\n",
       "      <td>1.00</td>\n",
       "      <td>1.00</td>\n",
       "    </tr>\n",
       "    <tr>\n",
       "      <th>25%</th>\n",
       "      <td>1.75</td>\n",
       "      <td>0.00</td>\n",
       "      <td>7.50</td>\n",
       "      <td>2020.0</td>\n",
       "      <td>3.00</td>\n",
       "      <td>1.00</td>\n",
       "    </tr>\n",
       "    <tr>\n",
       "      <th>50%</th>\n",
       "      <td>69.50</td>\n",
       "      <td>8.00</td>\n",
       "      <td>102.00</td>\n",
       "      <td>2020.0</td>\n",
       "      <td>4.50</td>\n",
       "      <td>2.00</td>\n",
       "    </tr>\n",
       "    <tr>\n",
       "      <th>75%</th>\n",
       "      <td>164.00</td>\n",
       "      <td>46.00</td>\n",
       "      <td>230.75</td>\n",
       "      <td>2020.0</td>\n",
       "      <td>5.25</td>\n",
       "      <td>4.00</td>\n",
       "    </tr>\n",
       "    <tr>\n",
       "      <th>max</th>\n",
       "      <td>2907.00</td>\n",
       "      <td>2339.00</td>\n",
       "      <td>2907.00</td>\n",
       "      <td>2020.0</td>\n",
       "      <td>6.00</td>\n",
       "      <td>5.00</td>\n",
       "    </tr>\n",
       "  </tbody>\n",
       "</table>\n",
       "</div>"
      ],
      "text/plain": [
       "       1as_consultas  consultas_subsequentes  total_consultas     ano    mês  \\\n",
       "count          20.00                   19.00            20.00    20.0  20.00   \n",
       "mean          287.20                  144.89           424.85  2020.0   4.10   \n",
       "std           657.98                  532.28           855.71     0.0   1.62   \n",
       "min             0.00                    0.00             0.00  2020.0   1.00   \n",
       "25%             1.75                    0.00             7.50  2020.0   3.00   \n",
       "50%            69.50                    8.00           102.00  2020.0   4.50   \n",
       "75%           164.00                   46.00           230.75  2020.0   5.25   \n",
       "max          2907.00                 2339.00          2907.00  2020.0   6.00   \n",
       "\n",
       "       código_região  \n",
       "count          20.00  \n",
       "mean            2.45  \n",
       "std             1.36  \n",
       "min             1.00  \n",
       "25%             1.00  \n",
       "50%             2.00  \n",
       "75%             4.00  \n",
       "max             5.00  "
      ]
     },
     "execution_count": 21,
     "metadata": {},
     "output_type": "execute_result"
    }
   ],
   "source": [
    "#Checking statistics\n",
    "data_description = data.describe().round(2)\n",
    "data_description"
   ]
  },
  {
   "cell_type": "markdown",
   "id": "3aa56cd8",
   "metadata": {},
   "source": [
    "# DATA PROCESSING"
   ]
  },
  {
   "cell_type": "code",
   "execution_count": 26,
   "id": "e2998c6c",
   "metadata": {},
   "outputs": [],
   "source": [
    "import matplotlib.pyplot as plt\n",
    "import seaborn as sns"
   ]
  },
  {
   "cell_type": "code",
   "execution_count": 27,
   "id": "7d99f04b",
   "metadata": {},
   "outputs": [],
   "source": [
    "# Splitting data in munerical and categorical\n",
    "categorical_df = data.select_dtypes(include= 'object')\n",
    "numerical_df = data.select_dtypes(include= np.number)\n",
    "# print(numerical_df)\n",
    "# print (categorical_df)"
   ]
  },
  {
   "cell_type": "code",
   "execution_count": 29,
   "id": "11139441",
   "metadata": {},
   "outputs": [
    {
     "data": {
      "image/png": "[encoded data removed]",
      "text/plain": [
       "<Figure size 640x480 with 1 Axes>"
      ]
     },
     "metadata": {},
     "output_type": "display_data"
    },
    {
     "data": {
      "image/png": "[encoded data removed]",
      "text/plain": [
       "<Figure size 640x480 with 1 Axes>"
      ]
     },
     "metadata": {},
     "output_type": "display_data"
    },
    {
     "data": {
      "image/png": "[encoded data removed]",
      "text/plain": [
       "<Figure size 640x480 with 1 Axes>"
      ]
     },
     "metadata": {},
     "output_type": "display_data"
    },
    {
     "data": {
      "image/png": "[encoded data removed]",
      "text/plain": [
       "<Figure size 640x480 with 1 Axes>"
      ]
     },
     "metadata": {},
     "output_type": "display_data"
    },
    {
     "data": {
      "image/png": "[encoded data removed]",
      "text/plain": [
       "<Figure size 640x480 with 1 Axes>"
      ]
     },
     "metadata": {},
     "output_type": "display_data"
    },
    {
     "data": {
      "image/png": "[encoded data removed]",
      "text/plain": [
       "<Figure size 640x480 with 1 Axes>"
      ]
     },
     "metadata": {},
     "output_type": "display_data"
    }
   ],
   "source": [
    "#Plotting my data - Chcking distribution\n",
    "for column in numerical_df.columns:\n",
    "    sns.histplot(data=numerical_df, x=column, kde=True)\n",
    "    plt.show()"
   ]
  },
  {
   "cell_type": "code",
   "execution_count": null,
   "id": "e2cc2fbd",
   "metadata": {},
   "outputs": [],
   "source": []
  },
  {
   "cell_type": "code",
   "execution_count": null,
   "id": "68b5ae21",
   "metadata": {},
   "outputs": [],
   "source": []
  },
  {
   "cell_type": "code",
   "execution_count": null,
   "id": "dfe7645c",
   "metadata": {},
   "outputs": [],
   "source": []
  }
 ],
 "metadata": {
  "kernelspec": {
   "display_name": "Python 3 (ipykernel)",
   "language": "python",
   "name": "python3"
  },
  "language_info": {
   "codemirror_mode": {
    "name": "ipython",
    "version": 3
   },
   "file_extension": ".py",
   "mimetype": "text/x-python",
   "name": "python",
   "nbconvert_exporter": "python",
   "pygments_lexer": "ipython3",
   "version": "3.11.5"
  }
 },
 "nbformat": 4,
 "nbformat_minor": 5
}
