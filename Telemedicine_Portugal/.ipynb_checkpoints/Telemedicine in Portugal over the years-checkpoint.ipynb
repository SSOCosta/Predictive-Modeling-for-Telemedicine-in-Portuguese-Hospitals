{
 "cells": [
  {
   "cell_type": "markdown",
   "id": "ae87a3cc",
   "metadata": {},
   "source": [
    "# Research Question\n",
    "How has historical telemedicine data, over the past decade,  contributed to predicting follow-up consultations at Portuguese hospitals and optimizing staffing, scheduling, and geographical resource allocation to enhance telemedicine services?"
   ]
  },
  {
   "cell_type": "markdown",
   "id": "71824ba5",
   "metadata": {},
   "source": [
    "# Project Goal"
   ]
  },
  {
   "cell_type": "markdown",
   "id": "3f530f6d",
   "metadata": {},
   "source": [
    "Develop a predictive model using historical telemedicine data to forecast the volume of follow-up consultations at hospitals \n",
    "in Portugal. This model will aid in staffing decisions, scheduling, and geographical resource allocation, ultimately \n",
    "optimizing the delivery of telemedicine services."
   ]
  },
  {
   "cell_type": "markdown",
   "id": "fdb4e4be",
   "metadata": {},
   "source": [
    "# Data Extraction\n",
    "(Via API) https://transparencia.sns.gov.pt/explore/dataset/consultas-em-telemedicina/api/?flg=pt-pt&disjunctive.regiao&disjunctive.instituicao&sort=tempo\n",
    "\n",
    "Can also be directly downloaded trough the csv file.\n",
    "(data = pd.read_csv('consultas-em-telemedicina.csv', delimiter=';')"
   ]
  },
  {
   "cell_type": "markdown",
   "id": "ed4dd502",
   "metadata": {},
   "source": [
    "For a matter of training, I have decided to access data trough the API source."
   ]
  },
  {
   "cell_type": "code",
   "execution_count": 1,
   "id": "569a2ae7",
   "metadata": {},
   "outputs": [],
   "source": [
    "# Importing the necessary libraries\n",
    "import pandas as pd\n",
    "import numpy as np\n",
    "import requests"
   ]
  },
  {
   "cell_type": "code",
   "execution_count": 2,
   "id": "b656f206",
   "metadata": {},
   "outputs": [
    {
     "name": "stdout",
     "output_type": "stream",
     "text": [
      "<Response [200]>\n"
     ]
    }
   ],
   "source": [
    "# Checking for response of the available API url, 200 ok, 400 or 500 need to fetch the type of error\n",
    "response = requests.get('https://transparencia.sns.gov.pt/api/explore/v2.1/catalog/datasets/consultas-em-telemedicina/exports/json?select=%2A&limit=-1&timezone=UTC&use_labels=false&epsg=4326')\n",
    "print(response)"
   ]
  },
  {
   "cell_type": "code",
   "execution_count": 3,
   "id": "08e854e4",
   "metadata": {},
   "outputs": [],
   "source": [
    "# Getting my data\n",
    "df = response.json()\n",
    "#df"
   ]
  },
  {
   "cell_type": "code",
   "execution_count": 4,
   "id": "4eb8e321",
   "metadata": {},
   "outputs": [
    {
     "data": {
      "text/html": [
       "<div>\n",
       "<style scoped>\n",
       "    .dataframe tbody tr th:only-of-type {\n",
       "        vertical-align: middle;\n",
       "    }\n",
       "\n",
       "    .dataframe tbody tr th {\n",
       "        vertical-align: top;\n",
       "    }\n",
       "\n",
       "    .dataframe thead th {\n",
       "        text-align: right;\n",
       "    }\n",
       "</style>\n",
       "<table border=\"1\" class=\"dataframe\">\n",
       "  <thead>\n",
       "    <tr style=\"text-align: right;\">\n",
       "      <th></th>\n",
       "      <th>tempo</th>\n",
       "      <th>regiao</th>\n",
       "      <th>instituicao</th>\n",
       "      <th>localizacao_geografica</th>\n",
       "      <th>1as_consultas_telemedicina</th>\n",
       "      <th>consultas_subsequentes_telemedicina</th>\n",
       "      <th>total_consultas_telemedicina</th>\n",
       "    </tr>\n",
       "  </thead>\n",
       "  <tbody>\n",
       "    <tr>\n",
       "      <th>0</th>\n",
       "      <td>2013-01</td>\n",
       "      <td>Região de Saúde do Alentejo</td>\n",
       "      <td>Unidade Local de Saúde do Norte Alentejano, EPE</td>\n",
       "      <td>{'lon': -7.4263845, 'lat': 39.3003425}</td>\n",
       "      <td>90.0</td>\n",
       "      <td>100.0</td>\n",
       "      <td>190</td>\n",
       "    </tr>\n",
       "    <tr>\n",
       "      <th>1</th>\n",
       "      <td>2013-01</td>\n",
       "      <td>Região de Saúde do Centro</td>\n",
       "      <td>Centro Hospitalar do Baixo Vouga, EPE</td>\n",
       "      <td>{'lon': -8.6543716, 'lat': 40.6362453}</td>\n",
       "      <td>38.0</td>\n",
       "      <td>49.0</td>\n",
       "      <td>87</td>\n",
       "    </tr>\n",
       "    <tr>\n",
       "      <th>2</th>\n",
       "      <td>2013-01</td>\n",
       "      <td>Região de Saúde do Centro</td>\n",
       "      <td>Unidade Local de Saúde da Guarda, EPE</td>\n",
       "      <td>{'lon': -7.2734793, 'lat': 40.5309916}</td>\n",
       "      <td>27.0</td>\n",
       "      <td>5.0</td>\n",
       "      <td>32</td>\n",
       "    </tr>\n",
       "    <tr>\n",
       "      <th>3</th>\n",
       "      <td>2013-01</td>\n",
       "      <td>Região de Saúde Norte</td>\n",
       "      <td>Unidade Local de Saúde de Matosinhos, EPE</td>\n",
       "      <td>{'lon': -8.6745115, 'lat': 41.1794456}</td>\n",
       "      <td>184.0</td>\n",
       "      <td>0.0</td>\n",
       "      <td>184</td>\n",
       "    </tr>\n",
       "    <tr>\n",
       "      <th>4</th>\n",
       "      <td>2013-02</td>\n",
       "      <td>Região de Saúde do Alentejo</td>\n",
       "      <td>Hospital Espírito Santo de Évora, EPE</td>\n",
       "      <td>{'lon': -7.9032848, 'lat': 38.5684861}</td>\n",
       "      <td>185.0</td>\n",
       "      <td>113.0</td>\n",
       "      <td>298</td>\n",
       "    </tr>\n",
       "  </tbody>\n",
       "</table>\n",
       "</div>"
      ],
      "text/plain": [
       "     tempo                       regiao  \\\n",
       "0  2013-01  Região de Saúde do Alentejo   \n",
       "1  2013-01    Região de Saúde do Centro   \n",
       "2  2013-01    Região de Saúde do Centro   \n",
       "3  2013-01        Região de Saúde Norte   \n",
       "4  2013-02  Região de Saúde do Alentejo   \n",
       "\n",
       "                                       instituicao  \\\n",
       "0  Unidade Local de Saúde do Norte Alentejano, EPE   \n",
       "1            Centro Hospitalar do Baixo Vouga, EPE   \n",
       "2            Unidade Local de Saúde da Guarda, EPE   \n",
       "3        Unidade Local de Saúde de Matosinhos, EPE   \n",
       "4            Hospital Espírito Santo de Évora, EPE   \n",
       "\n",
       "                   localizacao_geografica  1as_consultas_telemedicina  \\\n",
       "0  {'lon': -7.4263845, 'lat': 39.3003425}                        90.0   \n",
       "1  {'lon': -8.6543716, 'lat': 40.6362453}                        38.0   \n",
       "2  {'lon': -7.2734793, 'lat': 40.5309916}                        27.0   \n",
       "3  {'lon': -8.6745115, 'lat': 41.1794456}                       184.0   \n",
       "4  {'lon': -7.9032848, 'lat': 38.5684861}                       185.0   \n",
       "\n",
       "   consultas_subsequentes_telemedicina  total_consultas_telemedicina  \n",
       "0                                100.0                           190  \n",
       "1                                 49.0                            87  \n",
       "2                                  5.0                            32  \n",
       "3                                  0.0                           184  \n",
       "4                                113.0                           298  "
      ]
     },
     "execution_count": 4,
     "metadata": {},
     "output_type": "execute_result"
    }
   ],
   "source": [
    "# Converting it in to a DataFrame\n",
    "df = pd.DataFrame(df)\n",
    "df.head()"
   ]
  },
  {
   "cell_type": "code",
   "execution_count": 5,
   "id": "61a64787",
   "metadata": {},
   "outputs": [
    {
     "name": "stdout",
     "output_type": "stream",
     "text": [
      "<class 'pandas.core.frame.DataFrame'>\n"
     ]
    }
   ],
   "source": [
    "print(type(df))"
   ]
  },
  {
   "cell_type": "code",
   "execution_count": 6,
   "id": "7ce820e3",
   "metadata": {},
   "outputs": [
    {
     "data": {
      "text/plain": [
       "(3208, 7)"
      ]
     },
     "execution_count": 6,
     "metadata": {},
     "output_type": "execute_result"
    }
   ],
   "source": [
    "#Checking the shape of my data\n",
    "df.shape"
   ]
  },
  {
   "cell_type": "code",
   "execution_count": 7,
   "id": "5a667ff6",
   "metadata": {},
   "outputs": [],
   "source": [
    "# Saving a copy of my original data\n",
    "df_copy = df.copy('Telemedicina_em_Portugal')"
   ]
  },
  {
   "cell_type": "markdown",
   "id": "2aeceb10",
   "metadata": {},
   "source": [
    "# DATA CLEANING AND WRANGLING/EDA"
   ]
  },
  {
   "cell_type": "code",
   "execution_count": 8,
   "id": "2efd30c7",
   "metadata": {},
   "outputs": [
    {
     "data": {
      "text/plain": [
       "tempo                                   object\n",
       "regiao                                  object\n",
       "instituicao                             object\n",
       "localizacao_geografica                  object\n",
       "1as_consultas_telemedicina             float64\n",
       "consultas_subsequentes_telemedicina    float64\n",
       "total_consultas_telemedicina             int64\n",
       "dtype: object"
      ]
     },
     "execution_count": 8,
     "metadata": {},
     "output_type": "execute_result"
    }
   ],
   "source": [
    "#Checking for data types\n",
    "df.dtypes"
   ]
  },
  {
   "cell_type": "code",
   "execution_count": 9,
   "id": "d26d7eb7",
   "metadata": {},
   "outputs": [],
   "source": [
    "# Changing my 'data' to datetime format\n",
    "df['tempo'] = pd.to_datetime(df['tempo'])"
   ]
  },
  {
   "cell_type": "code",
   "execution_count": 10,
   "id": "19a6036f",
   "metadata": {},
   "outputs": [
    {
     "data": {
      "text/plain": [
       "tempo                                  datetime64[ns]\n",
       "regiao                                         object\n",
       "instituicao                                    object\n",
       "localizacao_geografica                         object\n",
       "1as_consultas_telemedicina                    float64\n",
       "consultas_subsequentes_telemedicina           float64\n",
       "total_consultas_telemedicina                    int64\n",
       "dtype: object"
      ]
     },
     "execution_count": 10,
     "metadata": {},
     "output_type": "execute_result"
    }
   ],
   "source": [
    "# Checking this change\n",
    "df.dtypes"
   ]
  },
  {
   "cell_type": "code",
   "execution_count": 11,
   "id": "8d966b96",
   "metadata": {},
   "outputs": [],
   "source": [
    "# Extracting month and year from 'tempo'\n",
    "df['ano'] = df['tempo'].dt.year\n",
    "df['mês'] = df['tempo'].dt.month"
   ]
  },
  {
   "cell_type": "code",
   "execution_count": 12,
   "id": "04e7280b",
   "metadata": {},
   "outputs": [
    {
     "data": {
      "text/html": [
       "<div>\n",
       "<style scoped>\n",
       "    .dataframe tbody tr th:only-of-type {\n",
       "        vertical-align: middle;\n",
       "    }\n",
       "\n",
       "    .dataframe tbody tr th {\n",
       "        vertical-align: top;\n",
       "    }\n",
       "\n",
       "    .dataframe thead th {\n",
       "        text-align: right;\n",
       "    }\n",
       "</style>\n",
       "<table border=\"1\" class=\"dataframe\">\n",
       "  <thead>\n",
       "    <tr style=\"text-align: right;\">\n",
       "      <th></th>\n",
       "      <th>tempo</th>\n",
       "      <th>regiao</th>\n",
       "      <th>instituicao</th>\n",
       "      <th>localizacao_geografica</th>\n",
       "      <th>1as_consultas_telemedicina</th>\n",
       "      <th>consultas_subsequentes_telemedicina</th>\n",
       "      <th>total_consultas_telemedicina</th>\n",
       "      <th>ano</th>\n",
       "      <th>mês</th>\n",
       "      <th>coordenadas</th>\n",
       "    </tr>\n",
       "  </thead>\n",
       "  <tbody>\n",
       "    <tr>\n",
       "      <th>0</th>\n",
       "      <td>2013-01-01</td>\n",
       "      <td>Região de Saúde do Alentejo</td>\n",
       "      <td>Unidade Local de Saúde do Norte Alentejano, EPE</td>\n",
       "      <td>{'lon': -7.4263845, 'lat': 39.3003425}</td>\n",
       "      <td>90.0</td>\n",
       "      <td>100.0</td>\n",
       "      <td>190</td>\n",
       "      <td>2013</td>\n",
       "      <td>1</td>\n",
       "      <td>-7.4263845,39.3003425</td>\n",
       "    </tr>\n",
       "    <tr>\n",
       "      <th>1</th>\n",
       "      <td>2013-01-01</td>\n",
       "      <td>Região de Saúde do Centro</td>\n",
       "      <td>Centro Hospitalar do Baixo Vouga, EPE</td>\n",
       "      <td>{'lon': -8.6543716, 'lat': 40.6362453}</td>\n",
       "      <td>38.0</td>\n",
       "      <td>49.0</td>\n",
       "      <td>87</td>\n",
       "      <td>2013</td>\n",
       "      <td>1</td>\n",
       "      <td>-8.6543716,40.6362453</td>\n",
       "    </tr>\n",
       "    <tr>\n",
       "      <th>2</th>\n",
       "      <td>2013-01-01</td>\n",
       "      <td>Região de Saúde do Centro</td>\n",
       "      <td>Unidade Local de Saúde da Guarda, EPE</td>\n",
       "      <td>{'lon': -7.2734793, 'lat': 40.5309916}</td>\n",
       "      <td>27.0</td>\n",
       "      <td>5.0</td>\n",
       "      <td>32</td>\n",
       "      <td>2013</td>\n",
       "      <td>1</td>\n",
       "      <td>-7.2734793,40.5309916</td>\n",
       "    </tr>\n",
       "    <tr>\n",
       "      <th>3</th>\n",
       "      <td>2013-01-01</td>\n",
       "      <td>Região de Saúde Norte</td>\n",
       "      <td>Unidade Local de Saúde de Matosinhos, EPE</td>\n",
       "      <td>{'lon': -8.6745115, 'lat': 41.1794456}</td>\n",
       "      <td>184.0</td>\n",
       "      <td>0.0</td>\n",
       "      <td>184</td>\n",
       "      <td>2013</td>\n",
       "      <td>1</td>\n",
       "      <td>-8.6745115,41.1794456</td>\n",
       "    </tr>\n",
       "    <tr>\n",
       "      <th>4</th>\n",
       "      <td>2013-02-01</td>\n",
       "      <td>Região de Saúde do Alentejo</td>\n",
       "      <td>Hospital Espírito Santo de Évora, EPE</td>\n",
       "      <td>{'lon': -7.9032848, 'lat': 38.5684861}</td>\n",
       "      <td>185.0</td>\n",
       "      <td>113.0</td>\n",
       "      <td>298</td>\n",
       "      <td>2013</td>\n",
       "      <td>2</td>\n",
       "      <td>-7.9032848,38.5684861</td>\n",
       "    </tr>\n",
       "  </tbody>\n",
       "</table>\n",
       "</div>"
      ],
      "text/plain": [
       "       tempo                       regiao  \\\n",
       "0 2013-01-01  Região de Saúde do Alentejo   \n",
       "1 2013-01-01    Região de Saúde do Centro   \n",
       "2 2013-01-01    Região de Saúde do Centro   \n",
       "3 2013-01-01        Região de Saúde Norte   \n",
       "4 2013-02-01  Região de Saúde do Alentejo   \n",
       "\n",
       "                                       instituicao  \\\n",
       "0  Unidade Local de Saúde do Norte Alentejano, EPE   \n",
       "1            Centro Hospitalar do Baixo Vouga, EPE   \n",
       "2            Unidade Local de Saúde da Guarda, EPE   \n",
       "3        Unidade Local de Saúde de Matosinhos, EPE   \n",
       "4            Hospital Espírito Santo de Évora, EPE   \n",
       "\n",
       "                   localizacao_geografica  1as_consultas_telemedicina  \\\n",
       "0  {'lon': -7.4263845, 'lat': 39.3003425}                        90.0   \n",
       "1  {'lon': -8.6543716, 'lat': 40.6362453}                        38.0   \n",
       "2  {'lon': -7.2734793, 'lat': 40.5309916}                        27.0   \n",
       "3  {'lon': -8.6745115, 'lat': 41.1794456}                       184.0   \n",
       "4  {'lon': -7.9032848, 'lat': 38.5684861}                       185.0   \n",
       "\n",
       "   consultas_subsequentes_telemedicina  total_consultas_telemedicina   ano  \\\n",
       "0                                100.0                           190  2013   \n",
       "1                                 49.0                            87  2013   \n",
       "2                                  5.0                            32  2013   \n",
       "3                                  0.0                           184  2013   \n",
       "4                                113.0                           298  2013   \n",
       "\n",
       "   mês            coordenadas  \n",
       "0    1  -7.4263845,39.3003425  \n",
       "1    1  -8.6543716,40.6362453  \n",
       "2    1  -7.2734793,40.5309916  \n",
       "3    1  -8.6745115,41.1794456  \n",
       "4    2  -7.9032848,38.5684861  "
      ]
     },
     "execution_count": 12,
     "metadata": {},
     "output_type": "execute_result"
    }
   ],
   "source": [
    "# Concatenating longitude and latitude into a single column and extracting them from the dictionary\n",
    "df['coordenadas'] = df['localizacao_geografica'].apply(lambda x: f\"{x['lon']},{x['lat']}\")\n",
    "df.head()"
   ]
  },
  {
   "cell_type": "code",
   "execution_count": 13,
   "id": "8cd449a3",
   "metadata": {
    "scrolled": true
   },
   "outputs": [
    {
     "data": {
      "text/html": [
       "<div>\n",
       "<style scoped>\n",
       "    .dataframe tbody tr th:only-of-type {\n",
       "        vertical-align: middle;\n",
       "    }\n",
       "\n",
       "    .dataframe tbody tr th {\n",
       "        vertical-align: top;\n",
       "    }\n",
       "\n",
       "    .dataframe thead th {\n",
       "        text-align: right;\n",
       "    }\n",
       "</style>\n",
       "<table border=\"1\" class=\"dataframe\">\n",
       "  <thead>\n",
       "    <tr style=\"text-align: right;\">\n",
       "      <th></th>\n",
       "      <th>tempo</th>\n",
       "      <th>regiao</th>\n",
       "      <th>instituicao</th>\n",
       "      <th>1as_consultas_telemedicina</th>\n",
       "      <th>consultas_subsequentes_telemedicina</th>\n",
       "      <th>total_consultas_telemedicina</th>\n",
       "      <th>ano</th>\n",
       "      <th>mês</th>\n",
       "      <th>coordenadas</th>\n",
       "    </tr>\n",
       "  </thead>\n",
       "  <tbody>\n",
       "    <tr>\n",
       "      <th>0</th>\n",
       "      <td>2013-01-01</td>\n",
       "      <td>Região de Saúde do Alentejo</td>\n",
       "      <td>Unidade Local de Saúde do Norte Alentejano, EPE</td>\n",
       "      <td>90.0</td>\n",
       "      <td>100.0</td>\n",
       "      <td>190</td>\n",
       "      <td>2013</td>\n",
       "      <td>1</td>\n",
       "      <td>-7.4263845,39.3003425</td>\n",
       "    </tr>\n",
       "    <tr>\n",
       "      <th>1</th>\n",
       "      <td>2013-01-01</td>\n",
       "      <td>Região de Saúde do Centro</td>\n",
       "      <td>Centro Hospitalar do Baixo Vouga, EPE</td>\n",
       "      <td>38.0</td>\n",
       "      <td>49.0</td>\n",
       "      <td>87</td>\n",
       "      <td>2013</td>\n",
       "      <td>1</td>\n",
       "      <td>-8.6543716,40.6362453</td>\n",
       "    </tr>\n",
       "    <tr>\n",
       "      <th>2</th>\n",
       "      <td>2013-01-01</td>\n",
       "      <td>Região de Saúde do Centro</td>\n",
       "      <td>Unidade Local de Saúde da Guarda, EPE</td>\n",
       "      <td>27.0</td>\n",
       "      <td>5.0</td>\n",
       "      <td>32</td>\n",
       "      <td>2013</td>\n",
       "      <td>1</td>\n",
       "      <td>-7.2734793,40.5309916</td>\n",
       "    </tr>\n",
       "    <tr>\n",
       "      <th>3</th>\n",
       "      <td>2013-01-01</td>\n",
       "      <td>Região de Saúde Norte</td>\n",
       "      <td>Unidade Local de Saúde de Matosinhos, EPE</td>\n",
       "      <td>184.0</td>\n",
       "      <td>0.0</td>\n",
       "      <td>184</td>\n",
       "      <td>2013</td>\n",
       "      <td>1</td>\n",
       "      <td>-8.6745115,41.1794456</td>\n",
       "    </tr>\n",
       "    <tr>\n",
       "      <th>4</th>\n",
       "      <td>2013-02-01</td>\n",
       "      <td>Região de Saúde do Alentejo</td>\n",
       "      <td>Hospital Espírito Santo de Évora, EPE</td>\n",
       "      <td>185.0</td>\n",
       "      <td>113.0</td>\n",
       "      <td>298</td>\n",
       "      <td>2013</td>\n",
       "      <td>2</td>\n",
       "      <td>-7.9032848,38.5684861</td>\n",
       "    </tr>\n",
       "  </tbody>\n",
       "</table>\n",
       "</div>"
      ],
      "text/plain": [
       "       tempo                       regiao  \\\n",
       "0 2013-01-01  Região de Saúde do Alentejo   \n",
       "1 2013-01-01    Região de Saúde do Centro   \n",
       "2 2013-01-01    Região de Saúde do Centro   \n",
       "3 2013-01-01        Região de Saúde Norte   \n",
       "4 2013-02-01  Região de Saúde do Alentejo   \n",
       "\n",
       "                                       instituicao  \\\n",
       "0  Unidade Local de Saúde do Norte Alentejano, EPE   \n",
       "1            Centro Hospitalar do Baixo Vouga, EPE   \n",
       "2            Unidade Local de Saúde da Guarda, EPE   \n",
       "3        Unidade Local de Saúde de Matosinhos, EPE   \n",
       "4            Hospital Espírito Santo de Évora, EPE   \n",
       "\n",
       "   1as_consultas_telemedicina  consultas_subsequentes_telemedicina  \\\n",
       "0                        90.0                                100.0   \n",
       "1                        38.0                                 49.0   \n",
       "2                        27.0                                  5.0   \n",
       "3                       184.0                                  0.0   \n",
       "4                       185.0                                113.0   \n",
       "\n",
       "   total_consultas_telemedicina   ano  mês            coordenadas  \n",
       "0                           190  2013    1  -7.4263845,39.3003425  \n",
       "1                            87  2013    1  -8.6543716,40.6362453  \n",
       "2                            32  2013    1  -7.2734793,40.5309916  \n",
       "3                           184  2013    1  -8.6745115,41.1794456  \n",
       "4                           298  2013    2  -7.9032848,38.5684861  "
      ]
     },
     "execution_count": 13,
     "metadata": {},
     "output_type": "execute_result"
    }
   ],
   "source": [
    "# Dropping the original 'localizacao_geografica.lon' and 'localizacao_geografica.lat' columns\n",
    "data = df.drop('localizacao_geografica', axis=1, inplace=False)\n",
    "data.head()"
   ]
  },
  {
   "cell_type": "code",
   "execution_count": 14,
   "id": "684e2a5e",
   "metadata": {},
   "outputs": [
    {
     "data": {
      "text/html": [
       "<div>\n",
       "<style scoped>\n",
       "    .dataframe tbody tr th:only-of-type {\n",
       "        vertical-align: middle;\n",
       "    }\n",
       "\n",
       "    .dataframe tbody tr th {\n",
       "        vertical-align: top;\n",
       "    }\n",
       "\n",
       "    .dataframe thead th {\n",
       "        text-align: right;\n",
       "    }\n",
       "</style>\n",
       "<table border=\"1\" class=\"dataframe\">\n",
       "  <thead>\n",
       "    <tr style=\"text-align: right;\">\n",
       "      <th></th>\n",
       "      <th>data</th>\n",
       "      <th>região</th>\n",
       "      <th>instituição</th>\n",
       "      <th>1as_consultas</th>\n",
       "      <th>consultas_subsequentes</th>\n",
       "      <th>total_consultas</th>\n",
       "      <th>ano</th>\n",
       "      <th>mês</th>\n",
       "      <th>coordenadas</th>\n",
       "    </tr>\n",
       "  </thead>\n",
       "  <tbody>\n",
       "    <tr>\n",
       "      <th>0</th>\n",
       "      <td>2013-01-01</td>\n",
       "      <td>Região de Saúde do Alentejo</td>\n",
       "      <td>Unidade Local de Saúde do Norte Alentejano, EPE</td>\n",
       "      <td>90.0</td>\n",
       "      <td>100.0</td>\n",
       "      <td>190</td>\n",
       "      <td>2013</td>\n",
       "      <td>1</td>\n",
       "      <td>-7.4263845,39.3003425</td>\n",
       "    </tr>\n",
       "    <tr>\n",
       "      <th>1</th>\n",
       "      <td>2013-01-01</td>\n",
       "      <td>Região de Saúde do Centro</td>\n",
       "      <td>Centro Hospitalar do Baixo Vouga, EPE</td>\n",
       "      <td>38.0</td>\n",
       "      <td>49.0</td>\n",
       "      <td>87</td>\n",
       "      <td>2013</td>\n",
       "      <td>1</td>\n",
       "      <td>-8.6543716,40.6362453</td>\n",
       "    </tr>\n",
       "    <tr>\n",
       "      <th>2</th>\n",
       "      <td>2013-01-01</td>\n",
       "      <td>Região de Saúde do Centro</td>\n",
       "      <td>Unidade Local de Saúde da Guarda, EPE</td>\n",
       "      <td>27.0</td>\n",
       "      <td>5.0</td>\n",
       "      <td>32</td>\n",
       "      <td>2013</td>\n",
       "      <td>1</td>\n",
       "      <td>-7.2734793,40.5309916</td>\n",
       "    </tr>\n",
       "    <tr>\n",
       "      <th>3</th>\n",
       "      <td>2013-01-01</td>\n",
       "      <td>Região de Saúde Norte</td>\n",
       "      <td>Unidade Local de Saúde de Matosinhos, EPE</td>\n",
       "      <td>184.0</td>\n",
       "      <td>0.0</td>\n",
       "      <td>184</td>\n",
       "      <td>2013</td>\n",
       "      <td>1</td>\n",
       "      <td>-8.6745115,41.1794456</td>\n",
       "    </tr>\n",
       "    <tr>\n",
       "      <th>4</th>\n",
       "      <td>2013-02-01</td>\n",
       "      <td>Região de Saúde do Alentejo</td>\n",
       "      <td>Hospital Espírito Santo de Évora, EPE</td>\n",
       "      <td>185.0</td>\n",
       "      <td>113.0</td>\n",
       "      <td>298</td>\n",
       "      <td>2013</td>\n",
       "      <td>2</td>\n",
       "      <td>-7.9032848,38.5684861</td>\n",
       "    </tr>\n",
       "  </tbody>\n",
       "</table>\n",
       "</div>"
      ],
      "text/plain": [
       "        data                       região  \\\n",
       "0 2013-01-01  Região de Saúde do Alentejo   \n",
       "1 2013-01-01    Região de Saúde do Centro   \n",
       "2 2013-01-01    Região de Saúde do Centro   \n",
       "3 2013-01-01        Região de Saúde Norte   \n",
       "4 2013-02-01  Região de Saúde do Alentejo   \n",
       "\n",
       "                                       instituição  1as_consultas  \\\n",
       "0  Unidade Local de Saúde do Norte Alentejano, EPE           90.0   \n",
       "1            Centro Hospitalar do Baixo Vouga, EPE           38.0   \n",
       "2            Unidade Local de Saúde da Guarda, EPE           27.0   \n",
       "3        Unidade Local de Saúde de Matosinhos, EPE          184.0   \n",
       "4            Hospital Espírito Santo de Évora, EPE          185.0   \n",
       "\n",
       "   consultas_subsequentes  total_consultas   ano  mês            coordenadas  \n",
       "0                   100.0              190  2013    1  -7.4263845,39.3003425  \n",
       "1                    49.0               87  2013    1  -8.6543716,40.6362453  \n",
       "2                     5.0               32  2013    1  -7.2734793,40.5309916  \n",
       "3                     0.0              184  2013    1  -8.6745115,41.1794456  \n",
       "4                   113.0              298  2013    2  -7.9032848,38.5684861  "
      ]
     },
     "execution_count": 14,
     "metadata": {},
     "output_type": "execute_result"
    }
   ],
   "source": [
    "# Renaming my dataframe columns\n",
    "data.columns = data.columns.str.replace('_telemedicina', '')\n",
    "data_columns = {'tempo':'data','regiao':'região','instituicao':'instituição'}\n",
    "data = data.rename(columns = data_columns)\n",
    "data.head()"
   ]
  },
  {
   "cell_type": "code",
   "execution_count": 15,
   "id": "764ae2be",
   "metadata": {},
   "outputs": [
    {
     "data": {
      "text/plain": [
       "data                      datetime64[ns]\n",
       "região                            object\n",
       "instituição                       object\n",
       "1as_consultas                    float64\n",
       "consultas_subsequentes           float64\n",
       "total_consultas                    int64\n",
       "ano                                int32\n",
       "mês                                int32\n",
       "coordenadas                       object\n",
       "dtype: object"
      ]
     },
     "execution_count": 15,
     "metadata": {},
     "output_type": "execute_result"
    }
   ],
   "source": [
    "#Checking data types\n",
    "data.dtypes"
   ]
  },
  {
   "cell_type": "code",
   "execution_count": 16,
   "id": "a45b6843",
   "metadata": {},
   "outputs": [
    {
     "data": {
      "text/plain": [
       "data                       132\n",
       "região                       5\n",
       "instituição                 46\n",
       "1as_consultas             1106\n",
       "consultas_subsequentes     964\n",
       "total_consultas           1462\n",
       "ano                         11\n",
       "mês                         12\n",
       "coordenadas                 44\n",
       "dtype: int64"
      ]
     },
     "execution_count": 16,
     "metadata": {},
     "output_type": "execute_result"
    }
   ],
   "source": [
    "# Checking for unique values\n",
    "data.nunique()"
   ]
  },
  {
   "cell_type": "code",
   "execution_count": 17,
   "id": "b9390be4",
   "metadata": {},
   "outputs": [
    {
     "data": {
      "text/plain": [
       "array(['Região de Saúde do Alentejo', 'Região de Saúde do Centro',\n",
       "       'Região de Saúde Norte', 'Região de Saúde LVT',\n",
       "       'Região de Saúde do Algarve'], dtype=object)"
      ]
     },
     "execution_count": 17,
     "metadata": {},
     "output_type": "execute_result"
    }
   ],
   "source": [
    "# Verifying 'região' unique values\n",
    "unique_regiao= data['região'].unique()\n",
    "unique_regiao"
   ]
  },
  {
   "cell_type": "code",
   "execution_count": 18,
   "id": "f4576a6d",
   "metadata": {},
   "outputs": [
    {
     "data": {
      "text/html": [
       "<div>\n",
       "<style scoped>\n",
       "    .dataframe tbody tr th:only-of-type {\n",
       "        vertical-align: middle;\n",
       "    }\n",
       "\n",
       "    .dataframe tbody tr th {\n",
       "        vertical-align: top;\n",
       "    }\n",
       "\n",
       "    .dataframe thead th {\n",
       "        text-align: right;\n",
       "    }\n",
       "</style>\n",
       "<table border=\"1\" class=\"dataframe\">\n",
       "  <thead>\n",
       "    <tr style=\"text-align: right;\">\n",
       "      <th></th>\n",
       "      <th>data</th>\n",
       "      <th>região</th>\n",
       "      <th>instituição</th>\n",
       "      <th>1as_consultas</th>\n",
       "      <th>consultas_subsequentes</th>\n",
       "      <th>total_consultas</th>\n",
       "      <th>ano</th>\n",
       "      <th>mês</th>\n",
       "      <th>coordenadas</th>\n",
       "      <th>código_região</th>\n",
       "    </tr>\n",
       "  </thead>\n",
       "  <tbody>\n",
       "    <tr>\n",
       "      <th>0</th>\n",
       "      <td>2013-01-01</td>\n",
       "      <td>Região de Saúde do Alentejo</td>\n",
       "      <td>Unidade Local de Saúde do Norte Alentejano, EPE</td>\n",
       "      <td>90.0</td>\n",
       "      <td>100.0</td>\n",
       "      <td>190</td>\n",
       "      <td>2013</td>\n",
       "      <td>1</td>\n",
       "      <td>-7.4263845,39.3003425</td>\n",
       "      <td>4</td>\n",
       "    </tr>\n",
       "    <tr>\n",
       "      <th>1</th>\n",
       "      <td>2013-01-01</td>\n",
       "      <td>Região de Saúde do Centro</td>\n",
       "      <td>Centro Hospitalar do Baixo Vouga, EPE</td>\n",
       "      <td>38.0</td>\n",
       "      <td>49.0</td>\n",
       "      <td>87</td>\n",
       "      <td>2013</td>\n",
       "      <td>1</td>\n",
       "      <td>-8.6543716,40.6362453</td>\n",
       "      <td>2</td>\n",
       "    </tr>\n",
       "    <tr>\n",
       "      <th>2</th>\n",
       "      <td>2013-01-01</td>\n",
       "      <td>Região de Saúde do Centro</td>\n",
       "      <td>Unidade Local de Saúde da Guarda, EPE</td>\n",
       "      <td>27.0</td>\n",
       "      <td>5.0</td>\n",
       "      <td>32</td>\n",
       "      <td>2013</td>\n",
       "      <td>1</td>\n",
       "      <td>-7.2734793,40.5309916</td>\n",
       "      <td>2</td>\n",
       "    </tr>\n",
       "    <tr>\n",
       "      <th>3</th>\n",
       "      <td>2013-01-01</td>\n",
       "      <td>Região de Saúde Norte</td>\n",
       "      <td>Unidade Local de Saúde de Matosinhos, EPE</td>\n",
       "      <td>184.0</td>\n",
       "      <td>0.0</td>\n",
       "      <td>184</td>\n",
       "      <td>2013</td>\n",
       "      <td>1</td>\n",
       "      <td>-8.6745115,41.1794456</td>\n",
       "      <td>1</td>\n",
       "    </tr>\n",
       "    <tr>\n",
       "      <th>4</th>\n",
       "      <td>2013-02-01</td>\n",
       "      <td>Região de Saúde do Alentejo</td>\n",
       "      <td>Hospital Espírito Santo de Évora, EPE</td>\n",
       "      <td>185.0</td>\n",
       "      <td>113.0</td>\n",
       "      <td>298</td>\n",
       "      <td>2013</td>\n",
       "      <td>2</td>\n",
       "      <td>-7.9032848,38.5684861</td>\n",
       "      <td>4</td>\n",
       "    </tr>\n",
       "  </tbody>\n",
       "</table>\n",
       "</div>"
      ],
      "text/plain": [
       "        data                       região  \\\n",
       "0 2013-01-01  Região de Saúde do Alentejo   \n",
       "1 2013-01-01    Região de Saúde do Centro   \n",
       "2 2013-01-01    Região de Saúde do Centro   \n",
       "3 2013-01-01        Região de Saúde Norte   \n",
       "4 2013-02-01  Região de Saúde do Alentejo   \n",
       "\n",
       "                                       instituição  1as_consultas  \\\n",
       "0  Unidade Local de Saúde do Norte Alentejano, EPE           90.0   \n",
       "1            Centro Hospitalar do Baixo Vouga, EPE           38.0   \n",
       "2            Unidade Local de Saúde da Guarda, EPE           27.0   \n",
       "3        Unidade Local de Saúde de Matosinhos, EPE          184.0   \n",
       "4            Hospital Espírito Santo de Évora, EPE          185.0   \n",
       "\n",
       "   consultas_subsequentes  total_consultas   ano  mês            coordenadas  \\\n",
       "0                   100.0              190  2013    1  -7.4263845,39.3003425   \n",
       "1                    49.0               87  2013    1  -8.6543716,40.6362453   \n",
       "2                     5.0               32  2013    1  -7.2734793,40.5309916   \n",
       "3                     0.0              184  2013    1  -8.6745115,41.1794456   \n",
       "4                   113.0              298  2013    2  -7.9032848,38.5684861   \n",
       "\n",
       "   código_região  \n",
       "0              4  \n",
       "1              2  \n",
       "2              2  \n",
       "3              1  \n",
       "4              4  "
      ]
     },
     "execution_count": 18,
     "metadata": {},
     "output_type": "execute_result"
    }
   ],
   "source": [
    "# Defining my region to a code number from north to south\n",
    "region_to_code = {\n",
    "    'Região de Saúde do Alentejo': 4,\n",
    "    'Região de Saúde do Algarve': 5,\n",
    "    'Região de Saúde do Centro': 2,\n",
    "    'Região de Saúde LVT': 3,\n",
    "    'Região de Saúde Norte': 1\n",
    "}\n",
    "\n",
    "# Getting a new column with the region code\n",
    "data['código_região'] = data['região'].map(region_to_code)\n",
    "data.head()"
   ]
  },
  {
   "cell_type": "code",
   "execution_count": 19,
   "id": "47c03f97",
   "metadata": {},
   "outputs": [
    {
     "data": {
      "text/plain": [
       "False"
      ]
     },
     "execution_count": 19,
     "metadata": {},
     "output_type": "execute_result"
    }
   ],
   "source": [
    "# Checking for duplicate values\n",
    "duplicates = data.duplicated().any()\n",
    "duplicates"
   ]
  },
  {
   "cell_type": "code",
   "execution_count": 20,
   "id": "c9475134",
   "metadata": {},
   "outputs": [
    {
     "data": {
      "text/plain": [
       "data                        0\n",
       "região                      0\n",
       "instituição                 0\n",
       "1as_consultas              87\n",
       "consultas_subsequentes    368\n",
       "total_consultas             0\n",
       "ano                         0\n",
       "mês                         0\n",
       "coordenadas                 0\n",
       "código_região               0\n",
       "dtype: int64"
      ]
     },
     "execution_count": 20,
     "metadata": {},
     "output_type": "execute_result"
    }
   ],
   "source": [
    "# Checking for null values\n",
    "null_counts = data.isnull().sum()\n",
    "null_counts"
   ]
  },
  {
   "cell_type": "markdown",
   "id": "836e8855",
   "metadata": {},
   "source": [
    "After examining my data, I noticed that empty cells may represent missing zeros. To confirm this and ensure accurate value replacement, I decided to sum the '1as_consultas' and 'consultas_subsequentes' columns. By comparing the sums before and after replacing null values with zeros to the 'total_consultas' column, I confirmed that empty cells should indeed be treated as zeros. This is why I replaced them in the null values."
   ]
  },
  {
   "cell_type": "code",
   "execution_count": 21,
   "id": "73a41a1b",
   "metadata": {},
   "outputs": [
    {
     "name": "stdout",
     "output_type": "stream",
     "text": [
      "All values where sum is not null are equal to 'total_consultas': True\n"
     ]
    }
   ],
   "source": [
    "# Sum of 1as_consultas and consultas_subsequentes without replacing the NaN values\n",
    "sum_without_replacing_nan = data['1as_consultas'] + data['consultas_subsequentes']\n",
    "\n",
    "# Checking where all values are not null\n",
    "all_equal = (sum_without_replacing_nan == data['total_consultas']).loc[sum_without_replacing_nan.notna()].all()\n",
    "\n",
    "print(\"All values where sum is not null are equal to 'total_consultas':\", all_equal)\n"
   ]
  },
  {
   "cell_type": "code",
   "execution_count": 22,
   "id": "9719c600",
   "metadata": {},
   "outputs": [
    {
     "name": "stdout",
     "output_type": "stream",
     "text": [
      "The sum of '1as_consultas' and 'consultas_subsequentes' is equal to total_consultas: True\n"
     ]
    }
   ],
   "source": [
    "# Sum of 1as_consultas and consultas_subsequentes replacing the NaN values with zero(0)\n",
    "sum_without_nan = data['1as_consultas'].fillna(0) + data['consultas_subsequentes'].fillna(0)\n",
    "\n",
    "# Checking if the sum is equal to the total_consultas after replacing the null values with zero(0)\n",
    "all_equal_replaced = (sum_without_nan == data['total_consultas']).all()\n",
    "\n",
    "print(\"The sum of '1as_consultas' and 'consultas_subsequentes' is equal to total_consultas:\", all_equal_replaced)\n"
   ]
  },
  {
   "cell_type": "code",
   "execution_count": 23,
   "id": "d4c83b41",
   "metadata": {},
   "outputs": [
    {
     "data": {
      "text/plain": [
       "data                      0\n",
       "região                    0\n",
       "instituição               0\n",
       "1as_consultas             0\n",
       "consultas_subsequentes    0\n",
       "total_consultas           0\n",
       "ano                       0\n",
       "mês                       0\n",
       "coordenadas               0\n",
       "código_região             0\n",
       "dtype: int64"
      ]
     },
     "execution_count": 23,
     "metadata": {},
     "output_type": "execute_result"
    }
   ],
   "source": [
    "# Now actually replacing my null values with zeros in the DataFrame\n",
    "data.fillna(0, inplace=True)\n",
    "# Re-ckecking for null values\n",
    "null_counts = data.isnull().sum()\n",
    "null_counts"
   ]
  },
  {
   "cell_type": "code",
   "execution_count": 24,
   "id": "33269c07",
   "metadata": {},
   "outputs": [],
   "source": [
    "# Converting float columns to integer as they are indeed discrete variables\n",
    "data['1as_consultas'] = data['1as_consultas'].astype(int)\n",
    "data['consultas_subsequentes'] = data['consultas_subsequentes'].astype(int)"
   ]
  },
  {
   "cell_type": "code",
   "execution_count": 25,
   "id": "55c3d72e",
   "metadata": {},
   "outputs": [
    {
     "data": {
      "text/plain": [
       "data                      datetime64[ns]\n",
       "região                            object\n",
       "instituição                       object\n",
       "1as_consultas                      int32\n",
       "consultas_subsequentes             int32\n",
       "total_consultas                    int64\n",
       "ano                                int32\n",
       "mês                                int32\n",
       "coordenadas                       object\n",
       "código_região                      int64\n",
       "dtype: object"
      ]
     },
     "execution_count": 25,
     "metadata": {},
     "output_type": "execute_result"
    }
   ],
   "source": [
    "data.dtypes"
   ]
  },
  {
   "cell_type": "code",
   "execution_count": 26,
   "id": "1c10ecef",
   "metadata": {},
   "outputs": [
    {
     "data": {
      "text/html": [
       "<div>\n",
       "<style scoped>\n",
       "    .dataframe tbody tr th:only-of-type {\n",
       "        vertical-align: middle;\n",
       "    }\n",
       "\n",
       "    .dataframe tbody tr th {\n",
       "        vertical-align: top;\n",
       "    }\n",
       "\n",
       "    .dataframe thead th {\n",
       "        text-align: right;\n",
       "    }\n",
       "</style>\n",
       "<table border=\"1\" class=\"dataframe\">\n",
       "  <thead>\n",
       "    <tr style=\"text-align: right;\">\n",
       "      <th></th>\n",
       "      <th>data</th>\n",
       "      <th>1as_consultas</th>\n",
       "      <th>consultas_subsequentes</th>\n",
       "      <th>total_consultas</th>\n",
       "      <th>ano</th>\n",
       "      <th>mês</th>\n",
       "      <th>código_região</th>\n",
       "    </tr>\n",
       "  </thead>\n",
       "  <tbody>\n",
       "    <tr>\n",
       "      <th>count</th>\n",
       "      <td>3208</td>\n",
       "      <td>3208.00</td>\n",
       "      <td>3208.00</td>\n",
       "      <td>3208.00</td>\n",
       "      <td>3208.00</td>\n",
       "      <td>3208.00</td>\n",
       "      <td>3208.00</td>\n",
       "    </tr>\n",
       "    <tr>\n",
       "      <th>mean</th>\n",
       "      <td>2019-08-17 15:31:25.286782720</td>\n",
       "      <td>554.03</td>\n",
       "      <td>1247.20</td>\n",
       "      <td>1801.23</td>\n",
       "      <td>2019.16</td>\n",
       "      <td>6.61</td>\n",
       "      <td>2.38</td>\n",
       "    </tr>\n",
       "    <tr>\n",
       "      <th>min</th>\n",
       "      <td>2013-01-01 00:00:00</td>\n",
       "      <td>0.00</td>\n",
       "      <td>0.00</td>\n",
       "      <td>0.00</td>\n",
       "      <td>2013.00</td>\n",
       "      <td>1.00</td>\n",
       "      <td>1.00</td>\n",
       "    </tr>\n",
       "    <tr>\n",
       "      <th>25%</th>\n",
       "      <td>2017-04-23 12:00:00</td>\n",
       "      <td>19.00</td>\n",
       "      <td>0.00</td>\n",
       "      <td>51.00</td>\n",
       "      <td>2017.00</td>\n",
       "      <td>4.00</td>\n",
       "      <td>1.00</td>\n",
       "    </tr>\n",
       "    <tr>\n",
       "      <th>50%</th>\n",
       "      <td>2020-04-01 00:00:00</td>\n",
       "      <td>147.50</td>\n",
       "      <td>40.00</td>\n",
       "      <td>275.00</td>\n",
       "      <td>2020.00</td>\n",
       "      <td>7.00</td>\n",
       "      <td>2.00</td>\n",
       "    </tr>\n",
       "    <tr>\n",
       "      <th>75%</th>\n",
       "      <td>2022-04-01 00:00:00</td>\n",
       "      <td>483.25</td>\n",
       "      <td>304.00</td>\n",
       "      <td>1022.25</td>\n",
       "      <td>2022.00</td>\n",
       "      <td>10.00</td>\n",
       "      <td>3.00</td>\n",
       "    </tr>\n",
       "    <tr>\n",
       "      <th>max</th>\n",
       "      <td>2023-12-01 00:00:00</td>\n",
       "      <td>31425.00</td>\n",
       "      <td>119546.00</td>\n",
       "      <td>150971.00</td>\n",
       "      <td>2023.00</td>\n",
       "      <td>12.00</td>\n",
       "      <td>5.00</td>\n",
       "    </tr>\n",
       "    <tr>\n",
       "      <th>std</th>\n",
       "      <td>NaN</td>\n",
       "      <td>1540.11</td>\n",
       "      <td>5890.47</td>\n",
       "      <td>7227.68</td>\n",
       "      <td>3.07</td>\n",
       "      <td>3.44</td>\n",
       "      <td>1.15</td>\n",
       "    </tr>\n",
       "  </tbody>\n",
       "</table>\n",
       "</div>"
      ],
      "text/plain": [
       "                                data  1as_consultas  consultas_subsequentes  \\\n",
       "count                           3208        3208.00                 3208.00   \n",
       "mean   2019-08-17 15:31:25.286782720         554.03                 1247.20   \n",
       "min              2013-01-01 00:00:00           0.00                    0.00   \n",
       "25%              2017-04-23 12:00:00          19.00                    0.00   \n",
       "50%              2020-04-01 00:00:00         147.50                   40.00   \n",
       "75%              2022-04-01 00:00:00         483.25                  304.00   \n",
       "max              2023-12-01 00:00:00       31425.00               119546.00   \n",
       "std                              NaN        1540.11                 5890.47   \n",
       "\n",
       "       total_consultas      ano      mês  código_região  \n",
       "count          3208.00  3208.00  3208.00        3208.00  \n",
       "mean           1801.23  2019.16     6.61           2.38  \n",
       "min               0.00  2013.00     1.00           1.00  \n",
       "25%              51.00  2017.00     4.00           1.00  \n",
       "50%             275.00  2020.00     7.00           2.00  \n",
       "75%            1022.25  2022.00    10.00           3.00  \n",
       "max          150971.00  2023.00    12.00           5.00  \n",
       "std            7227.68     3.07     3.44           1.15  "
      ]
     },
     "execution_count": 26,
     "metadata": {},
     "output_type": "execute_result"
    }
   ],
   "source": [
    "# Checking statistics\n",
    "data_description = data.describe().round(2)\n",
    "data_description"
   ]
  },
  {
   "cell_type": "code",
   "execution_count": 27,
   "id": "37db7b2e",
   "metadata": {},
   "outputs": [],
   "source": [
    "# Saving my cleaned DataFrame to a CSV file\n",
    "data.to_csv('final_data.csv', index=False)"
   ]
  },
  {
   "cell_type": "markdown",
   "id": "3aa56cd8",
   "metadata": {},
   "source": [
    "# DATA PROCESSING"
   ]
  },
  {
   "cell_type": "code",
   "execution_count": 28,
   "id": "e2998c6c",
   "metadata": {},
   "outputs": [],
   "source": [
    "import matplotlib.pyplot as plt\n",
    "import seaborn as sns"
   ]
  },
  {
   "cell_type": "code",
   "execution_count": 29,
   "id": "7d99f04b",
   "metadata": {},
   "outputs": [],
   "source": [
    "# Splitting data in munerical and categorical\n",
    "categorical_df = data.select_dtypes(include= 'object')\n",
    "numerical_df = data.select_dtypes(include= np.number)\n",
    "# print(numerical_df)\n",
    "# print (categorical_df)"
   ]
  },
  {
   "cell_type": "code",
   "execution_count": 30,
   "id": "11139441",
   "metadata": {},
   "outputs": [
    {
     "data": {
      "image/png": "[encoded data removed]",
      "text/plain": [
       "<Figure size 640x480 with 1 Axes>"
      ]
     },
     "metadata": {},
     "output_type": "display_data"
    },
    {
     "data": {
      "image/png": "[encoded data removed]",
      "text/plain": [
       "<Figure size 640x480 with 1 Axes>"
      ]
     },
     "metadata": {},
     "output_type": "display_data"
    },
    {
     "data": {
      "image/png": "[encoded data removed]",
      "text/plain": [
       "<Figure size 640x480 with 1 Axes>"
      ]
     },
     "metadata": {},
     "output_type": "display_data"
    },
    {
     "data": {
      "image/png": "[encoded data removed]",
      "text/plain": [
       "<Figure size 640x480 with 1 Axes>"
      ]
     },
     "metadata": {},
     "output_type": "display_data"
    },
    {
     "data": {
      "image/png": "[encoded data removed]",
      "text/plain": [
       "<Figure size 640x480 with 1 Axes>"
      ]
     },
     "metadata": {},
     "output_type": "display_data"
    },
    {
     "data": {
      "image/png": "[encoded data removed]",
      "text/plain": [
       "<Figure size 640x480 with 1 Axes>"
      ]
     },
     "metadata": {},
     "output_type": "display_data"
    }
   ],
   "source": [
    "#Plotting my data - Checking for distribution\n",
    "for column in numerical_df.columns:\n",
    "    sns.histplot(data=numerical_df, x=column, kde=True)\n",
    "    plt.show()"
   ]
  },
  {
   "cell_type": "markdown",
   "id": "3b37f2d3",
   "metadata": {},
   "source": [
    "Checking Distribution: The plotted data indicates that none of the variables follow a perfect normal distribution (bell shape). '1as consultas', 'consultas subsequentes', 'código_região', and 'total de consultas' are skewed to the right. 'Ano' is skewed to the left. 'Mês' shows a unimodal distribution that appears relatively symmetric with a peak in the middle of the range. The counts rise towards the center and then gradually decrease towards the ends, closely resembling a normal distribution. "
   ]
  },
  {
   "cell_type": "code",
   "execution_count": 31,
   "id": "68b5ae21",
   "metadata": {},
   "outputs": [
    {
     "data": {
      "image/png": "[encoded data removed]",
      "text/plain": [
       "<Figure size 2000x1000 with 1 Axes>"
      ]
     },
     "metadata": {},
     "output_type": "display_data"
    }
   ],
   "source": [
    "# Box plotting to check for possible outliers\n",
    "plt.figure(figsize=(20, 10)) \n",
    "numerical_df.boxplot()\n",
    "plt.xticks(rotation=45)  \n",
    "plt.title('Telemedicine in Portugal')\n",
    "plt.ylabel('Values')\n",
    "plt.show()"
   ]
  },
  {
   "cell_type": "markdown",
   "id": "9073bbcb",
   "metadata": {},
   "source": [
    "Checking for outliers: In this situation, all values must be considered, as they represent the number of appointments per region and institution. According to the histograms obtained, we can observe how the teleconsultation numbers have increased over the years. Additionally, we need to take into account that during the pandemic phase of COVID-19, teleconsultations have increased exponentially, especially since the official date of the first COVID-19 case in March 2020 until September 2022 when the state alert was lifted by the government."
   ]
  },
  {
   "cell_type": "code",
   "execution_count": 32,
   "id": "e11f3475",
   "metadata": {},
   "outputs": [
    {
     "data": {
      "image/png": "[encoded data removed]",
      "text/plain": [
       "<Figure size 640x480 with 2 Axes>"
      ]
     },
     "metadata": {},
     "output_type": "display_data"
    }
   ],
   "source": [
    "# Checking for multicollinearity between the features_CORRELATION \n",
    "correlation_matrix = numerical_df.corr()\n",
    "sns.heatmap(correlation_matrix, annot=True, cmap='coolwarm', fmt=\".2f\")\n",
    "plt.title(\"Correlation Heatmap\")\n",
    "plt.show()"
   ]
  },
  {
   "cell_type": "markdown",
   "id": "5e98dad1",
   "metadata": {},
   "source": [
    "Due to the high collinearity between the target variable 'consultas_subsequentes' and 'total_consultas', they can have a \n",
    "significant impact on the model results and redundancy. Therefore, I've decided to drop the 'total_consultas' column. \n",
    "\n",
    "Additionally, the variables 'código_região', 'coordenadas', and 'mês' have also shown to be problematic, necessitating further evaluation or modification to avoid adversely affecting the model’s predictive accuracy.\n",
    "\n",
    "After assessing model performance, I found that the categorical variable 'região' was contributing to lower model accuracy \n",
    "and higher errors. Therefore, I have also decided to remove 'região' from the dataset to improve the overall predictive \n",
    "performance of the model."
   ]
  },
  {
   "cell_type": "code",
   "execution_count": 33,
   "id": "fdf33a1a",
   "metadata": {},
   "outputs": [],
   "source": [
    "# X-y split - defining my TARGET and dropping the high correlation columnns\n",
    "# Dropping the TARGET and other columns non reatively important for the model\n",
    "X = data.drop(['consultas_subsequentes', 'total_consultas', 'data', 'código_região', 'coordenadas', 'mês', 'região'], axis=1) \n",
    "y = data['consultas_subsequentes'] # Isolating my TARGET\n",
    "# print(X)\n",
    "# print(y)"
   ]
  },
  {
   "cell_type": "code",
   "execution_count": 34,
   "id": "f5d096b9",
   "metadata": {},
   "outputs": [],
   "source": [
    "# train-test_split\n",
    "from sklearn.model_selection import train_test_split\n",
    "X_train, X_test, y_train, y_test = train_test_split(X, y, test_size=0.25, random_state=42)"
   ]
  },
  {
   "cell_type": "code",
   "execution_count": 35,
   "id": "b9a2569c",
   "metadata": {},
   "outputs": [
    {
     "name": "stdout",
     "output_type": "stream",
     "text": [
      "(2406, 3)\n",
      "(802, 3)\n",
      "(2406,)\n",
      "(802,)\n"
     ]
    }
   ],
   "source": [
    "#checking values coherence(random_state) \n",
    "print(X_train.shape)\n",
    "print(X_test.shape)\n",
    "print(y_train.shape)\n",
    "print(y_test.shape)"
   ]
  },
  {
   "cell_type": "code",
   "execution_count": 36,
   "id": "ade826cb",
   "metadata": {},
   "outputs": [],
   "source": [
    "# split numericals and categoricals\n",
    "X_train_num = X_train.select_dtypes(include = np.number)\n",
    "X_test_num  = X_test.select_dtypes(include = np.number)\n",
    "X_train_cat = X_train.select_dtypes(include = object)\n",
    "X_test_cat  = X_test.select_dtypes(include = object)\n",
    "# print(X_train_num)\n",
    "# print (X_train_cat)"
   ]
  },
  {
   "cell_type": "code",
   "execution_count": 37,
   "id": "e1566694",
   "metadata": {
    "scrolled": true
   },
   "outputs": [
    {
     "name": "stdout",
     "output_type": "stream",
     "text": [
      "(2406, 2)\n"
     ]
    },
    {
     "data": {
      "text/html": [
       "<div>\n",
       "<style scoped>\n",
       "    .dataframe tbody tr th:only-of-type {\n",
       "        vertical-align: middle;\n",
       "    }\n",
       "\n",
       "    .dataframe tbody tr th {\n",
       "        vertical-align: top;\n",
       "    }\n",
       "\n",
       "    .dataframe thead th {\n",
       "        text-align: right;\n",
       "    }\n",
       "</style>\n",
       "<table border=\"1\" class=\"dataframe\">\n",
       "  <thead>\n",
       "    <tr style=\"text-align: right;\">\n",
       "      <th></th>\n",
       "      <th>1as_consultas</th>\n",
       "      <th>ano</th>\n",
       "    </tr>\n",
       "  </thead>\n",
       "  <tbody>\n",
       "    <tr>\n",
       "      <th>0</th>\n",
       "      <td>0.072154</td>\n",
       "      <td>0.8</td>\n",
       "    </tr>\n",
       "    <tr>\n",
       "      <th>1</th>\n",
       "      <td>0.006377</td>\n",
       "      <td>0.4</td>\n",
       "    </tr>\n",
       "    <tr>\n",
       "      <th>2</th>\n",
       "      <td>0.000035</td>\n",
       "      <td>1.0</td>\n",
       "    </tr>\n",
       "    <tr>\n",
       "      <th>3</th>\n",
       "      <td>0.016808</td>\n",
       "      <td>0.9</td>\n",
       "    </tr>\n",
       "    <tr>\n",
       "      <th>4</th>\n",
       "      <td>0.011333</td>\n",
       "      <td>0.1</td>\n",
       "    </tr>\n",
       "    <tr>\n",
       "      <th>...</th>\n",
       "      <td>...</td>\n",
       "      <td>...</td>\n",
       "    </tr>\n",
       "    <tr>\n",
       "      <th>2401</th>\n",
       "      <td>0.010570</td>\n",
       "      <td>0.8</td>\n",
       "    </tr>\n",
       "    <tr>\n",
       "      <th>2402</th>\n",
       "      <td>0.062312</td>\n",
       "      <td>0.9</td>\n",
       "    </tr>\n",
       "    <tr>\n",
       "      <th>2403</th>\n",
       "      <td>0.015561</td>\n",
       "      <td>0.0</td>\n",
       "    </tr>\n",
       "    <tr>\n",
       "      <th>2404</th>\n",
       "      <td>0.002045</td>\n",
       "      <td>0.5</td>\n",
       "    </tr>\n",
       "    <tr>\n",
       "      <th>2405</th>\n",
       "      <td>0.006515</td>\n",
       "      <td>1.0</td>\n",
       "    </tr>\n",
       "  </tbody>\n",
       "</table>\n",
       "<p>2406 rows × 2 columns</p>\n",
       "</div>"
      ],
      "text/plain": [
       "      1as_consultas  ano\n",
       "0          0.072154  0.8\n",
       "1          0.006377  0.4\n",
       "2          0.000035  1.0\n",
       "3          0.016808  0.9\n",
       "4          0.011333  0.1\n",
       "...             ...  ...\n",
       "2401       0.010570  0.8\n",
       "2402       0.062312  0.9\n",
       "2403       0.015561  0.0\n",
       "2404       0.002045  0.5\n",
       "2405       0.006515  1.0\n",
       "\n",
       "[2406 rows x 2 columns]"
      ]
     },
     "execution_count": 37,
     "metadata": {},
     "output_type": "execute_result"
    }
   ],
   "source": [
    "# Scaling (numerical):\n",
    "from sklearn.preprocessing import MinMaxScaler\n",
    "\n",
    "#generating my scaller  and applying it to the numerical features\n",
    "transformer = MinMaxScaler().fit(X_train_num)\n",
    "X_train_num_scaled = transformer.transform(X_train_num)\n",
    "print(X_train_num_scaled.shape)\n",
    "\n",
    "# transforming it back to a dataframe\n",
    "X_train_num_scaled = pd.DataFrame(X_train_num_scaled, columns=X_train_num.columns)\n",
    "X_train_num_scaled"
   ]
  },
  {
   "cell_type": "code",
   "execution_count": 38,
   "id": "94f09877",
   "metadata": {},
   "outputs": [
    {
     "data": {
      "text/html": [
       "<div>\n",
       "<style scoped>\n",
       "    .dataframe tbody tr th:only-of-type {\n",
       "        vertical-align: middle;\n",
       "    }\n",
       "\n",
       "    .dataframe tbody tr th {\n",
       "        vertical-align: top;\n",
       "    }\n",
       "\n",
       "    .dataframe thead th {\n",
       "        text-align: right;\n",
       "    }\n",
       "</style>\n",
       "<table border=\"1\" class=\"dataframe\">\n",
       "  <thead>\n",
       "    <tr style=\"text-align: right;\">\n",
       "      <th></th>\n",
       "      <th>1as_consultas</th>\n",
       "      <th>ano</th>\n",
       "    </tr>\n",
       "  </thead>\n",
       "  <tbody>\n",
       "    <tr>\n",
       "      <th>0</th>\n",
       "      <td>0.004609</td>\n",
       "      <td>1.0</td>\n",
       "    </tr>\n",
       "    <tr>\n",
       "      <th>1</th>\n",
       "      <td>0.002980</td>\n",
       "      <td>0.9</td>\n",
       "    </tr>\n",
       "    <tr>\n",
       "      <th>2</th>\n",
       "      <td>0.007174</td>\n",
       "      <td>0.7</td>\n",
       "    </tr>\n",
       "    <tr>\n",
       "      <th>3</th>\n",
       "      <td>0.006654</td>\n",
       "      <td>0.7</td>\n",
       "    </tr>\n",
       "    <tr>\n",
       "      <th>4</th>\n",
       "      <td>0.005441</td>\n",
       "      <td>0.7</td>\n",
       "    </tr>\n",
       "  </tbody>\n",
       "</table>\n",
       "</div>"
      ],
      "text/plain": [
       "   1as_consultas  ano\n",
       "0       0.004609  1.0\n",
       "1       0.002980  0.9\n",
       "2       0.007174  0.7\n",
       "3       0.006654  0.7\n",
       "4       0.005441  0.7"
      ]
     },
     "execution_count": 38,
     "metadata": {},
     "output_type": "execute_result"
    }
   ],
   "source": [
    "# For the numerical test\n",
    "# applying the scaler to X_test_num, without re-fitting\n",
    "X_test_scaled_arr = transformer.transform(X_test_num)\n",
    "X_test_num_scaled = pd.DataFrame(X_test_scaled_arr, columns=X_test_num.columns)\n",
    "X_test_num_scaled.head()"
   ]
  },
  {
   "cell_type": "code",
   "execution_count": 39,
   "id": "6653b3f8",
   "metadata": {},
   "outputs": [
    {
     "data": {
      "text/html": [
       "<div>\n",
       "<style scoped>\n",
       "    .dataframe tbody tr th:only-of-type {\n",
       "        vertical-align: middle;\n",
       "    }\n",
       "\n",
       "    .dataframe tbody tr th {\n",
       "        vertical-align: top;\n",
       "    }\n",
       "\n",
       "    .dataframe thead th {\n",
       "        text-align: right;\n",
       "    }\n",
       "</style>\n",
       "<table border=\"1\" class=\"dataframe\">\n",
       "  <thead>\n",
       "    <tr style=\"text-align: right;\">\n",
       "      <th></th>\n",
       "      <th>instituição_Centro Hospitalar Entre Douro e Vouga, EPE</th>\n",
       "      <th>instituição_Centro Hospitalar Médio Tejo, EPE</th>\n",
       "      <th>instituição_Centro Hospitalar Psiquiátrico de Lisboa</th>\n",
       "      <th>instituição_Centro Hospitalar Póvoa de Varzim/Vila do Conde, EPE</th>\n",
       "      <th>instituição_Centro Hospitalar Tondela-Viseu, EPE</th>\n",
       "      <th>instituição_Centro Hospitalar Trás-os-Montes e Alto Douro, EPE</th>\n",
       "      <th>instituição_Centro Hospitalar Universitário Cova da Beira, EPE</th>\n",
       "      <th>instituição_Centro Hospitalar Universitário Lisboa Central, EPE</th>\n",
       "      <th>instituição_Centro Hospitalar Universitário de Lisboa Norte, EPE</th>\n",
       "      <th>instituição_Centro Hospitalar Universitário de Santo António, EPE</th>\n",
       "      <th>...</th>\n",
       "      <th>instituição_Instituto Português Oncologia de Lisboa, EPE</th>\n",
       "      <th>instituição_Instituto Português Oncologia do Porto, EPE</th>\n",
       "      <th>instituição_Unidade Local de Saúde da Guarda, EPE</th>\n",
       "      <th>instituição_Unidade Local de Saúde de Castelo Branco, EPE</th>\n",
       "      <th>instituição_Unidade Local de Saúde de Matosinhos, EPE</th>\n",
       "      <th>instituição_Unidade Local de Saúde do Alto Minho, EPE</th>\n",
       "      <th>instituição_Unidade Local de Saúde do Baixo Alentejo, EPE</th>\n",
       "      <th>instituição_Unidade Local de Saúde do Litoral Alentejano, EPE</th>\n",
       "      <th>instituição_Unidade Local de Saúde do Nordeste, EPE</th>\n",
       "      <th>instituição_Unidade Local de Saúde do Norte Alentejano, EPE</th>\n",
       "    </tr>\n",
       "  </thead>\n",
       "  <tbody>\n",
       "    <tr>\n",
       "      <th>0</th>\n",
       "      <td>0.0</td>\n",
       "      <td>0.0</td>\n",
       "      <td>0.0</td>\n",
       "      <td>0.0</td>\n",
       "      <td>0.0</td>\n",
       "      <td>0.0</td>\n",
       "      <td>0.0</td>\n",
       "      <td>0.0</td>\n",
       "      <td>1.0</td>\n",
       "      <td>0.0</td>\n",
       "      <td>...</td>\n",
       "      <td>0.0</td>\n",
       "      <td>0.0</td>\n",
       "      <td>0.0</td>\n",
       "      <td>0.0</td>\n",
       "      <td>0.0</td>\n",
       "      <td>0.0</td>\n",
       "      <td>0.0</td>\n",
       "      <td>0.0</td>\n",
       "      <td>0.0</td>\n",
       "      <td>0.0</td>\n",
       "    </tr>\n",
       "    <tr>\n",
       "      <th>1</th>\n",
       "      <td>0.0</td>\n",
       "      <td>0.0</td>\n",
       "      <td>0.0</td>\n",
       "      <td>0.0</td>\n",
       "      <td>0.0</td>\n",
       "      <td>0.0</td>\n",
       "      <td>0.0</td>\n",
       "      <td>0.0</td>\n",
       "      <td>0.0</td>\n",
       "      <td>0.0</td>\n",
       "      <td>...</td>\n",
       "      <td>0.0</td>\n",
       "      <td>0.0</td>\n",
       "      <td>0.0</td>\n",
       "      <td>1.0</td>\n",
       "      <td>0.0</td>\n",
       "      <td>0.0</td>\n",
       "      <td>0.0</td>\n",
       "      <td>0.0</td>\n",
       "      <td>0.0</td>\n",
       "      <td>0.0</td>\n",
       "    </tr>\n",
       "    <tr>\n",
       "      <th>2</th>\n",
       "      <td>0.0</td>\n",
       "      <td>0.0</td>\n",
       "      <td>0.0</td>\n",
       "      <td>0.0</td>\n",
       "      <td>0.0</td>\n",
       "      <td>0.0</td>\n",
       "      <td>0.0</td>\n",
       "      <td>0.0</td>\n",
       "      <td>0.0</td>\n",
       "      <td>0.0</td>\n",
       "      <td>...</td>\n",
       "      <td>0.0</td>\n",
       "      <td>0.0</td>\n",
       "      <td>0.0</td>\n",
       "      <td>0.0</td>\n",
       "      <td>0.0</td>\n",
       "      <td>0.0</td>\n",
       "      <td>0.0</td>\n",
       "      <td>0.0</td>\n",
       "      <td>0.0</td>\n",
       "      <td>0.0</td>\n",
       "    </tr>\n",
       "    <tr>\n",
       "      <th>3</th>\n",
       "      <td>0.0</td>\n",
       "      <td>0.0</td>\n",
       "      <td>0.0</td>\n",
       "      <td>1.0</td>\n",
       "      <td>0.0</td>\n",
       "      <td>0.0</td>\n",
       "      <td>0.0</td>\n",
       "      <td>0.0</td>\n",
       "      <td>0.0</td>\n",
       "      <td>0.0</td>\n",
       "      <td>...</td>\n",
       "      <td>0.0</td>\n",
       "      <td>0.0</td>\n",
       "      <td>0.0</td>\n",
       "      <td>0.0</td>\n",
       "      <td>0.0</td>\n",
       "      <td>0.0</td>\n",
       "      <td>0.0</td>\n",
       "      <td>0.0</td>\n",
       "      <td>0.0</td>\n",
       "      <td>0.0</td>\n",
       "    </tr>\n",
       "    <tr>\n",
       "      <th>4</th>\n",
       "      <td>0.0</td>\n",
       "      <td>0.0</td>\n",
       "      <td>0.0</td>\n",
       "      <td>0.0</td>\n",
       "      <td>0.0</td>\n",
       "      <td>0.0</td>\n",
       "      <td>0.0</td>\n",
       "      <td>0.0</td>\n",
       "      <td>0.0</td>\n",
       "      <td>0.0</td>\n",
       "      <td>...</td>\n",
       "      <td>0.0</td>\n",
       "      <td>0.0</td>\n",
       "      <td>0.0</td>\n",
       "      <td>0.0</td>\n",
       "      <td>0.0</td>\n",
       "      <td>0.0</td>\n",
       "      <td>0.0</td>\n",
       "      <td>0.0</td>\n",
       "      <td>0.0</td>\n",
       "      <td>0.0</td>\n",
       "    </tr>\n",
       "  </tbody>\n",
       "</table>\n",
       "<p>5 rows × 45 columns</p>\n",
       "</div>"
      ],
      "text/plain": [
       "   instituição_Centro Hospitalar Entre Douro e Vouga, EPE  \\\n",
       "0                                                0.0        \n",
       "1                                                0.0        \n",
       "2                                                0.0        \n",
       "3                                                0.0        \n",
       "4                                                0.0        \n",
       "\n",
       "   instituição_Centro Hospitalar Médio Tejo, EPE  \\\n",
       "0                                            0.0   \n",
       "1                                            0.0   \n",
       "2                                            0.0   \n",
       "3                                            0.0   \n",
       "4                                            0.0   \n",
       "\n",
       "   instituição_Centro Hospitalar Psiquiátrico de Lisboa  \\\n",
       "0                                                0.0      \n",
       "1                                                0.0      \n",
       "2                                                0.0      \n",
       "3                                                0.0      \n",
       "4                                                0.0      \n",
       "\n",
       "   instituição_Centro Hospitalar Póvoa de Varzim/Vila do Conde, EPE  \\\n",
       "0                                                0.0                  \n",
       "1                                                0.0                  \n",
       "2                                                0.0                  \n",
       "3                                                1.0                  \n",
       "4                                                0.0                  \n",
       "\n",
       "   instituição_Centro Hospitalar Tondela-Viseu, EPE  \\\n",
       "0                                               0.0   \n",
       "1                                               0.0   \n",
       "2                                               0.0   \n",
       "3                                               0.0   \n",
       "4                                               0.0   \n",
       "\n",
       "   instituição_Centro Hospitalar Trás-os-Montes e Alto Douro, EPE  \\\n",
       "0                                                0.0                \n",
       "1                                                0.0                \n",
       "2                                                0.0                \n",
       "3                                                0.0                \n",
       "4                                                0.0                \n",
       "\n",
       "   instituição_Centro Hospitalar Universitário Cova da Beira, EPE  \\\n",
       "0                                                0.0                \n",
       "1                                                0.0                \n",
       "2                                                0.0                \n",
       "3                                                0.0                \n",
       "4                                                0.0                \n",
       "\n",
       "   instituição_Centro Hospitalar Universitário Lisboa Central, EPE  \\\n",
       "0                                                0.0                 \n",
       "1                                                0.0                 \n",
       "2                                                0.0                 \n",
       "3                                                0.0                 \n",
       "4                                                0.0                 \n",
       "\n",
       "   instituição_Centro Hospitalar Universitário de Lisboa Norte, EPE  \\\n",
       "0                                                1.0                  \n",
       "1                                                0.0                  \n",
       "2                                                0.0                  \n",
       "3                                                0.0                  \n",
       "4                                                0.0                  \n",
       "\n",
       "   instituição_Centro Hospitalar Universitário de Santo António, EPE  ...  \\\n",
       "0                                                0.0                  ...   \n",
       "1                                                0.0                  ...   \n",
       "2                                                0.0                  ...   \n",
       "3                                                0.0                  ...   \n",
       "4                                                0.0                  ...   \n",
       "\n",
       "   instituição_Instituto Português Oncologia de Lisboa, EPE  \\\n",
       "0                                                0.0          \n",
       "1                                                0.0          \n",
       "2                                                0.0          \n",
       "3                                                0.0          \n",
       "4                                                0.0          \n",
       "\n",
       "   instituição_Instituto Português Oncologia do Porto, EPE  \\\n",
       "0                                                0.0         \n",
       "1                                                0.0         \n",
       "2                                                0.0         \n",
       "3                                                0.0         \n",
       "4                                                0.0         \n",
       "\n",
       "   instituição_Unidade Local de Saúde da Guarda, EPE  \\\n",
       "0                                                0.0   \n",
       "1                                                0.0   \n",
       "2                                                0.0   \n",
       "3                                                0.0   \n",
       "4                                                0.0   \n",
       "\n",
       "   instituição_Unidade Local de Saúde de Castelo Branco, EPE  \\\n",
       "0                                                0.0           \n",
       "1                                                1.0           \n",
       "2                                                0.0           \n",
       "3                                                0.0           \n",
       "4                                                0.0           \n",
       "\n",
       "   instituição_Unidade Local de Saúde de Matosinhos, EPE  \\\n",
       "0                                                0.0       \n",
       "1                                                0.0       \n",
       "2                                                0.0       \n",
       "3                                                0.0       \n",
       "4                                                0.0       \n",
       "\n",
       "   instituição_Unidade Local de Saúde do Alto Minho, EPE  \\\n",
       "0                                                0.0       \n",
       "1                                                0.0       \n",
       "2                                                0.0       \n",
       "3                                                0.0       \n",
       "4                                                0.0       \n",
       "\n",
       "   instituição_Unidade Local de Saúde do Baixo Alentejo, EPE  \\\n",
       "0                                                0.0           \n",
       "1                                                0.0           \n",
       "2                                                0.0           \n",
       "3                                                0.0           \n",
       "4                                                0.0           \n",
       "\n",
       "   instituição_Unidade Local de Saúde do Litoral Alentejano, EPE  \\\n",
       "0                                                0.0               \n",
       "1                                                0.0               \n",
       "2                                                0.0               \n",
       "3                                                0.0               \n",
       "4                                                0.0               \n",
       "\n",
       "   instituição_Unidade Local de Saúde do Nordeste, EPE  \\\n",
       "0                                                0.0     \n",
       "1                                                0.0     \n",
       "2                                                0.0     \n",
       "3                                                0.0     \n",
       "4                                                0.0     \n",
       "\n",
       "   instituição_Unidade Local de Saúde do Norte Alentejano, EPE  \n",
       "0                                                0.0            \n",
       "1                                                0.0            \n",
       "2                                                0.0            \n",
       "3                                                0.0            \n",
       "4                                                0.0            \n",
       "\n",
       "[5 rows x 45 columns]"
      ]
     },
     "execution_count": 39,
     "metadata": {},
     "output_type": "execute_result"
    }
   ],
   "source": [
    "# Encoding Categorical Data\n",
    "# OneHotEncoder\n",
    "from sklearn.preprocessing import OneHotEncoder\n",
    "# Fiting and Dropping the first varaible of each column\n",
    "encoder = OneHotEncoder(drop='first').fit(X_train_cat) \n",
    "encoded = encoder.transform(X_train_cat).toarray()\n",
    "# assigning column names\n",
    "cols = encoder.get_feature_names_out(input_features=X_train_cat.columns) \n",
    "onehot_encoded_train_cat = pd.DataFrame(encoded, columns=cols)\n",
    "onehot_encoded_train_cat.head()"
   ]
  },
  {
   "cell_type": "code",
   "execution_count": 40,
   "id": "f439cd4b",
   "metadata": {},
   "outputs": [
    {
     "data": {
      "text/html": [
       "<div>\n",
       "<style scoped>\n",
       "    .dataframe tbody tr th:only-of-type {\n",
       "        vertical-align: middle;\n",
       "    }\n",
       "\n",
       "    .dataframe tbody tr th {\n",
       "        vertical-align: top;\n",
       "    }\n",
       "\n",
       "    .dataframe thead th {\n",
       "        text-align: right;\n",
       "    }\n",
       "</style>\n",
       "<table border=\"1\" class=\"dataframe\">\n",
       "  <thead>\n",
       "    <tr style=\"text-align: right;\">\n",
       "      <th></th>\n",
       "      <th>instituição_Centro Hospitalar Entre Douro e Vouga, EPE</th>\n",
       "      <th>instituição_Centro Hospitalar Médio Tejo, EPE</th>\n",
       "      <th>instituição_Centro Hospitalar Psiquiátrico de Lisboa</th>\n",
       "      <th>instituição_Centro Hospitalar Póvoa de Varzim/Vila do Conde, EPE</th>\n",
       "      <th>instituição_Centro Hospitalar Tondela-Viseu, EPE</th>\n",
       "      <th>instituição_Centro Hospitalar Trás-os-Montes e Alto Douro, EPE</th>\n",
       "      <th>instituição_Centro Hospitalar Universitário Cova da Beira, EPE</th>\n",
       "      <th>instituição_Centro Hospitalar Universitário Lisboa Central, EPE</th>\n",
       "      <th>instituição_Centro Hospitalar Universitário de Lisboa Norte, EPE</th>\n",
       "      <th>instituição_Centro Hospitalar Universitário de Santo António, EPE</th>\n",
       "      <th>...</th>\n",
       "      <th>instituição_Instituto Português Oncologia de Lisboa, EPE</th>\n",
       "      <th>instituição_Instituto Português Oncologia do Porto, EPE</th>\n",
       "      <th>instituição_Unidade Local de Saúde da Guarda, EPE</th>\n",
       "      <th>instituição_Unidade Local de Saúde de Castelo Branco, EPE</th>\n",
       "      <th>instituição_Unidade Local de Saúde de Matosinhos, EPE</th>\n",
       "      <th>instituição_Unidade Local de Saúde do Alto Minho, EPE</th>\n",
       "      <th>instituição_Unidade Local de Saúde do Baixo Alentejo, EPE</th>\n",
       "      <th>instituição_Unidade Local de Saúde do Litoral Alentejano, EPE</th>\n",
       "      <th>instituição_Unidade Local de Saúde do Nordeste, EPE</th>\n",
       "      <th>instituição_Unidade Local de Saúde do Norte Alentejano, EPE</th>\n",
       "    </tr>\n",
       "  </thead>\n",
       "  <tbody>\n",
       "    <tr>\n",
       "      <th>0</th>\n",
       "      <td>0.0</td>\n",
       "      <td>0.0</td>\n",
       "      <td>0.0</td>\n",
       "      <td>0.0</td>\n",
       "      <td>0.0</td>\n",
       "      <td>1.0</td>\n",
       "      <td>0.0</td>\n",
       "      <td>0.0</td>\n",
       "      <td>0.0</td>\n",
       "      <td>0.0</td>\n",
       "      <td>...</td>\n",
       "      <td>0.0</td>\n",
       "      <td>0.0</td>\n",
       "      <td>0.0</td>\n",
       "      <td>0.0</td>\n",
       "      <td>0.0</td>\n",
       "      <td>0.0</td>\n",
       "      <td>0.0</td>\n",
       "      <td>0.0</td>\n",
       "      <td>0.0</td>\n",
       "      <td>0.0</td>\n",
       "    </tr>\n",
       "    <tr>\n",
       "      <th>1</th>\n",
       "      <td>0.0</td>\n",
       "      <td>0.0</td>\n",
       "      <td>0.0</td>\n",
       "      <td>0.0</td>\n",
       "      <td>0.0</td>\n",
       "      <td>0.0</td>\n",
       "      <td>0.0</td>\n",
       "      <td>0.0</td>\n",
       "      <td>0.0</td>\n",
       "      <td>0.0</td>\n",
       "      <td>...</td>\n",
       "      <td>0.0</td>\n",
       "      <td>0.0</td>\n",
       "      <td>0.0</td>\n",
       "      <td>0.0</td>\n",
       "      <td>0.0</td>\n",
       "      <td>0.0</td>\n",
       "      <td>0.0</td>\n",
       "      <td>0.0</td>\n",
       "      <td>0.0</td>\n",
       "      <td>0.0</td>\n",
       "    </tr>\n",
       "    <tr>\n",
       "      <th>2</th>\n",
       "      <td>0.0</td>\n",
       "      <td>0.0</td>\n",
       "      <td>0.0</td>\n",
       "      <td>0.0</td>\n",
       "      <td>0.0</td>\n",
       "      <td>0.0</td>\n",
       "      <td>0.0</td>\n",
       "      <td>0.0</td>\n",
       "      <td>0.0</td>\n",
       "      <td>0.0</td>\n",
       "      <td>...</td>\n",
       "      <td>0.0</td>\n",
       "      <td>0.0</td>\n",
       "      <td>0.0</td>\n",
       "      <td>0.0</td>\n",
       "      <td>0.0</td>\n",
       "      <td>0.0</td>\n",
       "      <td>0.0</td>\n",
       "      <td>0.0</td>\n",
       "      <td>0.0</td>\n",
       "      <td>0.0</td>\n",
       "    </tr>\n",
       "    <tr>\n",
       "      <th>3</th>\n",
       "      <td>0.0</td>\n",
       "      <td>0.0</td>\n",
       "      <td>0.0</td>\n",
       "      <td>0.0</td>\n",
       "      <td>0.0</td>\n",
       "      <td>0.0</td>\n",
       "      <td>0.0</td>\n",
       "      <td>0.0</td>\n",
       "      <td>0.0</td>\n",
       "      <td>0.0</td>\n",
       "      <td>...</td>\n",
       "      <td>0.0</td>\n",
       "      <td>0.0</td>\n",
       "      <td>0.0</td>\n",
       "      <td>0.0</td>\n",
       "      <td>0.0</td>\n",
       "      <td>0.0</td>\n",
       "      <td>0.0</td>\n",
       "      <td>0.0</td>\n",
       "      <td>0.0</td>\n",
       "      <td>0.0</td>\n",
       "    </tr>\n",
       "    <tr>\n",
       "      <th>4</th>\n",
       "      <td>0.0</td>\n",
       "      <td>0.0</td>\n",
       "      <td>0.0</td>\n",
       "      <td>0.0</td>\n",
       "      <td>0.0</td>\n",
       "      <td>0.0</td>\n",
       "      <td>0.0</td>\n",
       "      <td>0.0</td>\n",
       "      <td>0.0</td>\n",
       "      <td>0.0</td>\n",
       "      <td>...</td>\n",
       "      <td>0.0</td>\n",
       "      <td>0.0</td>\n",
       "      <td>0.0</td>\n",
       "      <td>0.0</td>\n",
       "      <td>0.0</td>\n",
       "      <td>0.0</td>\n",
       "      <td>0.0</td>\n",
       "      <td>0.0</td>\n",
       "      <td>0.0</td>\n",
       "      <td>0.0</td>\n",
       "    </tr>\n",
       "  </tbody>\n",
       "</table>\n",
       "<p>5 rows × 45 columns</p>\n",
       "</div>"
      ],
      "text/plain": [
       "   instituição_Centro Hospitalar Entre Douro e Vouga, EPE  \\\n",
       "0                                                0.0        \n",
       "1                                                0.0        \n",
       "2                                                0.0        \n",
       "3                                                0.0        \n",
       "4                                                0.0        \n",
       "\n",
       "   instituição_Centro Hospitalar Médio Tejo, EPE  \\\n",
       "0                                            0.0   \n",
       "1                                            0.0   \n",
       "2                                            0.0   \n",
       "3                                            0.0   \n",
       "4                                            0.0   \n",
       "\n",
       "   instituição_Centro Hospitalar Psiquiátrico de Lisboa  \\\n",
       "0                                                0.0      \n",
       "1                                                0.0      \n",
       "2                                                0.0      \n",
       "3                                                0.0      \n",
       "4                                                0.0      \n",
       "\n",
       "   instituição_Centro Hospitalar Póvoa de Varzim/Vila do Conde, EPE  \\\n",
       "0                                                0.0                  \n",
       "1                                                0.0                  \n",
       "2                                                0.0                  \n",
       "3                                                0.0                  \n",
       "4                                                0.0                  \n",
       "\n",
       "   instituição_Centro Hospitalar Tondela-Viseu, EPE  \\\n",
       "0                                               0.0   \n",
       "1                                               0.0   \n",
       "2                                               0.0   \n",
       "3                                               0.0   \n",
       "4                                               0.0   \n",
       "\n",
       "   instituição_Centro Hospitalar Trás-os-Montes e Alto Douro, EPE  \\\n",
       "0                                                1.0                \n",
       "1                                                0.0                \n",
       "2                                                0.0                \n",
       "3                                                0.0                \n",
       "4                                                0.0                \n",
       "\n",
       "   instituição_Centro Hospitalar Universitário Cova da Beira, EPE  \\\n",
       "0                                                0.0                \n",
       "1                                                0.0                \n",
       "2                                                0.0                \n",
       "3                                                0.0                \n",
       "4                                                0.0                \n",
       "\n",
       "   instituição_Centro Hospitalar Universitário Lisboa Central, EPE  \\\n",
       "0                                                0.0                 \n",
       "1                                                0.0                 \n",
       "2                                                0.0                 \n",
       "3                                                0.0                 \n",
       "4                                                0.0                 \n",
       "\n",
       "   instituição_Centro Hospitalar Universitário de Lisboa Norte, EPE  \\\n",
       "0                                                0.0                  \n",
       "1                                                0.0                  \n",
       "2                                                0.0                  \n",
       "3                                                0.0                  \n",
       "4                                                0.0                  \n",
       "\n",
       "   instituição_Centro Hospitalar Universitário de Santo António, EPE  ...  \\\n",
       "0                                                0.0                  ...   \n",
       "1                                                0.0                  ...   \n",
       "2                                                0.0                  ...   \n",
       "3                                                0.0                  ...   \n",
       "4                                                0.0                  ...   \n",
       "\n",
       "   instituição_Instituto Português Oncologia de Lisboa, EPE  \\\n",
       "0                                                0.0          \n",
       "1                                                0.0          \n",
       "2                                                0.0          \n",
       "3                                                0.0          \n",
       "4                                                0.0          \n",
       "\n",
       "   instituição_Instituto Português Oncologia do Porto, EPE  \\\n",
       "0                                                0.0         \n",
       "1                                                0.0         \n",
       "2                                                0.0         \n",
       "3                                                0.0         \n",
       "4                                                0.0         \n",
       "\n",
       "   instituição_Unidade Local de Saúde da Guarda, EPE  \\\n",
       "0                                                0.0   \n",
       "1                                                0.0   \n",
       "2                                                0.0   \n",
       "3                                                0.0   \n",
       "4                                                0.0   \n",
       "\n",
       "   instituição_Unidade Local de Saúde de Castelo Branco, EPE  \\\n",
       "0                                                0.0           \n",
       "1                                                0.0           \n",
       "2                                                0.0           \n",
       "3                                                0.0           \n",
       "4                                                0.0           \n",
       "\n",
       "   instituição_Unidade Local de Saúde de Matosinhos, EPE  \\\n",
       "0                                                0.0       \n",
       "1                                                0.0       \n",
       "2                                                0.0       \n",
       "3                                                0.0       \n",
       "4                                                0.0       \n",
       "\n",
       "   instituição_Unidade Local de Saúde do Alto Minho, EPE  \\\n",
       "0                                                0.0       \n",
       "1                                                0.0       \n",
       "2                                                0.0       \n",
       "3                                                0.0       \n",
       "4                                                0.0       \n",
       "\n",
       "   instituição_Unidade Local de Saúde do Baixo Alentejo, EPE  \\\n",
       "0                                                0.0           \n",
       "1                                                0.0           \n",
       "2                                                0.0           \n",
       "3                                                0.0           \n",
       "4                                                0.0           \n",
       "\n",
       "   instituição_Unidade Local de Saúde do Litoral Alentejano, EPE  \\\n",
       "0                                                0.0               \n",
       "1                                                0.0               \n",
       "2                                                0.0               \n",
       "3                                                0.0               \n",
       "4                                                0.0               \n",
       "\n",
       "   instituição_Unidade Local de Saúde do Nordeste, EPE  \\\n",
       "0                                                0.0     \n",
       "1                                                0.0     \n",
       "2                                                0.0     \n",
       "3                                                0.0     \n",
       "4                                                0.0     \n",
       "\n",
       "   instituição_Unidade Local de Saúde do Norte Alentejano, EPE  \n",
       "0                                                0.0            \n",
       "1                                                0.0            \n",
       "2                                                0.0            \n",
       "3                                                0.0            \n",
       "4                                                0.0            \n",
       "\n",
       "[5 rows x 45 columns]"
      ]
     },
     "execution_count": 40,
     "metadata": {},
     "output_type": "execute_result"
    }
   ],
   "source": [
    "# For the test encoding\n",
    "# applying the encoder to X_test_cat, without re-fitting\n",
    "encoded_test_cat = encoder.transform(X_test_cat).toarray()\n",
    "onehot_encoded_test_cat = pd.DataFrame(encoded_test_cat, columns=cols)\n",
    "onehot_encoded_test_cat.head()"
   ]
  },
  {
   "cell_type": "code",
   "execution_count": 41,
   "id": "03811aa8",
   "metadata": {},
   "outputs": [],
   "source": [
    "# Combining scaled and onehot_encoded portions of X_train\n",
    "X_train_treated = pd.concat([X_train_num_scaled, onehot_encoded_train_cat], axis=1)\n",
    "# X_train_treated"
   ]
  },
  {
   "cell_type": "code",
   "execution_count": 42,
   "id": "58befccd",
   "metadata": {},
   "outputs": [],
   "source": [
    "# Combining scaled and onehot_encoded portions of X_test\n",
    "X_test_treated = pd.concat([X_test_num_scaled, onehot_encoded_test_cat], axis=1)\n",
    "# X_test_treated"
   ]
  },
  {
   "cell_type": "code",
   "execution_count": 43,
   "id": "3590be30",
   "metadata": {},
   "outputs": [
    {
     "name": "stdout",
     "output_type": "stream",
     "text": [
      "Original number of features: 47\n",
      "Reduced number of features: 36\n"
     ]
    }
   ],
   "source": [
    "from sklearn.decomposition import PCA\n",
    "pca = PCA(n_components=0.95)\n",
    "X_train_pca = pca.fit_transform(X_train_treated)\n",
    "X_test_pca = pca.transform(X_test_treated)\n",
    "\n",
    "print(\"Original number of features:\", X_train_treated.shape[1])\n",
    "print(\"Reduced number of features:\", X_train_pca.shape[1])"
   ]
  },
  {
   "cell_type": "markdown",
   "id": "6c374e91",
   "metadata": {},
   "source": [
    "# MODELING"
   ]
  },
  {
   "cell_type": "markdown",
   "id": "7cfad7d5",
   "metadata": {},
   "source": [
    "Considering the numerical nature of the target variable and the aim to forecast the volume of follow-up consultations,\n",
    "I will employ a regression model."
   ]
  },
  {
   "cell_type": "code",
   "execution_count": 44,
   "id": "2e769a89",
   "metadata": {},
   "outputs": [
    {
     "name": "stdout",
     "output_type": "stream",
     "text": [
      "Model: LinearRegression\n",
      "R^2 Score: 0.7966854050408203\n",
      "Mean Squared Error (MSE): 8493392.618945908\n",
      "Mean Absolute Error (MAE): 1337.8178158598023\n",
      "Root Mean Squared Error (RMSE): 2914.342570623074\n",
      "\n",
      "\n",
      "Model: KNeighborsRegressor\n",
      "R^2 Score: 0.9492266201269194\n",
      "Mean Squared Error (MSE): 2121039.3181047384\n",
      "Mean Absolute Error (MAE): 270.40798004987533\n",
      "Root Mean Squared Error (RMSE): 1456.3788374268347\n",
      "\n",
      "\n",
      "Model: DecisionTreeRegressor\n",
      "R^2 Score: 0.8933585649544002\n",
      "Mean Squared Error (MSE): 4454906.82787405\n",
      "Mean Absolute Error (MAE): 308.82793746154096\n",
      "Root Mean Squared Error (RMSE): 2110.6650202895885\n",
      "\n",
      "\n",
      "Model: RandomForestRegressor\n",
      "R^2 Score: 0.9476452235567879\n",
      "Mean Squared Error (MSE): 2187101.5796904247\n",
      "Mean Absolute Error (MAE): 264.54094874904024\n",
      "Root Mean Squared Error (RMSE): 1478.885248993452\n",
      "\n",
      "\n"
     ]
    }
   ],
   "source": [
    "# Checking in between multiple regression models which one will fit better for this case.\n",
    "\n",
    "from sklearn import linear_model\n",
    "from sklearn.linear_model import LinearRegression\n",
    "from sklearn.ensemble import RandomForestRegressor\n",
    "from sklearn.neighbors import KNeighborsRegressor\n",
    "from sklearn.tree import DecisionTreeRegressor\n",
    "from sklearn.metrics import r2_score, mean_squared_error, mean_absolute_error\n",
    "\n",
    "# Definig the models\n",
    "models_to_try = [\n",
    "    LinearRegression(), \n",
    "    KNeighborsRegressor(), \n",
    "    DecisionTreeRegressor(random_state=1), \n",
    "    RandomForestRegressor(random_state=1)\n",
    "]\n",
    "\n",
    "# Defining a function to train, evaluate models, and print evaluation metrics\n",
    "def train_evaluate_print(models, X_train_treated, y_train, X_test_treated, y_test):\n",
    "    for model in models:\n",
    "        # Train the model\n",
    "        model.fit(X_train_treated, y_train)\n",
    "        \n",
    "        # Predict\n",
    "        y_pred = model.predict(X_test_treated)\n",
    "        \n",
    "        # Calculate evaluation metrics\n",
    "        score = r2_score(y_test, y_pred)\n",
    "        mse = mean_squared_error(y_test, y_pred)\n",
    "        mae = mean_absolute_error(y_test, y_pred)\n",
    "        rmse = mean_squared_error(y_test, y_pred, squared=False)\n",
    "                \n",
    "        # Print model name and evaluation metrics\n",
    "        model_name = model.__class__.__name__\n",
    "        print(f'Model: {model_name}')\n",
    "        print(\"R^2 Score:\", score)\n",
    "        print(\"Mean Squared Error (MSE):\", mse)\n",
    "        print(\"Mean Absolute Error (MAE):\", mae)\n",
    "        print(\"Root Mean Squared Error (RMSE):\", rmse)\n",
    "        print(\"\\n\")\n",
    "train_evaluate_print(models_to_try, X_train_treated, y_train, X_test_treated, y_test)\n"
   ]
  },
  {
   "cell_type": "markdown",
   "id": "9a7f96f6",
   "metadata": {},
   "source": [
    "In order to understand better how each model behaves across different data splits, I've decided to perform cross validation to\n",
    "obtain valuable information about the stability and generalization performance of these models."
   ]
  },
  {
   "cell_type": "code",
   "execution_count": 45,
   "id": "c2bf8f9c",
   "metadata": {},
   "outputs": [
    {
     "name": "stdout",
     "output_type": "stream",
     "text": [
      "Linear Regression: Average R² score = 0.49 ± 0.42\n",
      "K-Neighbors Regressor: Average R² score = 0.90 ± 0.04\n",
      "Decision Tree Regressor: Average R² score = 0.88 ± 0.08\n",
      "Random Forest Regressor: Average R² score = 0.92 ± 0.05\n"
     ]
    }
   ],
   "source": [
    "from sklearn.model_selection import cross_val_score\n",
    "from sklearn.pipeline import Pipeline\n",
    "\n",
    "# Cross Validation\n",
    "# Setting up the models\n",
    "models = {\n",
    "    \"Linear Regression\": LinearRegression(),\n",
    "    \"K-Neighbors Regressor\": Pipeline([\n",
    "    ('knn', KNeighborsRegressor())\n",
    "    ]),\n",
    "    \"Decision Tree Regressor\": DecisionTreeRegressor(random_state=42),\n",
    "    \"Random Forest Regressor\": RandomForestRegressor(random_state=42)\n",
    "}\n",
    "\n",
    "# Applying K-Fold Cross-Validation\n",
    "k = 10  # Number of folds\n",
    "for name, model in models.items():\n",
    "    scores = cross_val_score(model, X_train_treated, y_train , cv=k, scoring='r2')\n",
    "    #Printing the model name, R2 score and the standard deviation of the R² scores in 2 decimal places(:.2f)\n",
    "    print(f\"{name}: Average R² score = {np.mean(scores):.2f} ± {np.std(scores):.2f}\")\n"
   ]
  },
  {
   "cell_type": "markdown",
   "id": "1667d4eb",
   "metadata": {},
   "source": [
    "Interpretation of results:\n",
    "\n",
    "Linear Regression: Achieved an average R² score of 0.49 with a standard deviation of 0.42. This moderate performance indicates the model's variance across different data subsets, suggesting it might not always be stable or reliable, particularly when faced with diverse or complex datasets.\n",
    "\n",
    "K-Neighbors Regressor: With an average R² score of 0.90 and a low standard deviation of 0.04, this model demonstrated strong and consistent performance. It effectively captured the variance in the target variable, making it a robust choice, although its efficiency may decrease with larger datasets or higher dimensionality.\n",
    "\n",
    "Decision Tree Regressor: This model scored an average R² of 0.88 and had a standard deviation of 0.08. While it shows good performance, it doesn’t quite match the ensemble approach's effectiveness in handling diverse datasets.\n",
    "\n",
    "Random Forest Regressor: This emerged as the top choice, boasting an average R² score of 0.92 and a standard deviation of 0.05. Its advantage over the Decision Tree Regressor lies in its ability to minimize overfitting and manage bias-variance trade-offs more effectively due to its ensemble nature."
   ]
  },
  {
   "cell_type": "markdown",
   "id": "e5a6feb9",
   "metadata": {},
   "source": [
    "After a thorough evaluation of various regression models using cross-validation, two models particularly stood out for\n",
    "their strong performance: the RandomForest Regressor (RF) and the K-Neighbors Regressor (KNN). Given their impressive results,\n",
    "I've decided to explore these two models further, focusing on hyperparameter tuning and detailed model validation to ensure\n",
    "optimal performance and suitability for predicting follow-up consultations in telemedicine."
   ]
  },
  {
   "cell_type": "markdown",
   "id": "826ada90",
   "metadata": {},
   "source": [
    "# Hyperparameter tuning_Random Forest Model"
   ]
  },
  {
   "cell_type": "markdown",
   "id": "49780b9a",
   "metadata": {},
   "source": [
    "Random Forests offer several tunable hyperparameters that enhance the model's robustness and reliability. Adjusting parameters such as n_estimators for accuracy, max_features for feature diversity, max_depth for data detail, min_samples_split for overfitting prevention, and min_samples_leaf for generalization directly improves model accuracy and effectively controls overfitting."
   ]
  },
  {
   "cell_type": "code",
   "execution_count": 46,
   "id": "843e6440",
   "metadata": {},
   "outputs": [
    {
     "name": "stdout",
     "output_type": "stream",
     "text": [
      "Fitting 3 folds for each of 100 candidates, totalling 300 fits\n",
      "Best parameters: {'n_estimators': 300, 'min_samples_split': 2, 'min_samples_leaf': 1, 'max_features': 'log2', 'max_depth': None}\n",
      "Best cross-validation score: 0.94\n"
     ]
    }
   ],
   "source": [
    "# Fine-tuning my Random Forest parameters\n",
    "\n",
    "from sklearn.model_selection import RandomizedSearchCV\n",
    "\n",
    "# Defining the model\n",
    "rf = RandomForestRegressor(random_state=42)\n",
    "\n",
    "# Defininmg the parameter grid\n",
    "param_grid = {\n",
    "    'n_estimators': [100, 200, 300],  \n",
    "    'max_features': ['sqrt', 'log2'],\n",
    "    'max_depth': [None, 10, 20, 30],\n",
    "    'min_samples_split': [2, 5, 10],\n",
    "    'min_samples_leaf': [1, 2, 4]\n",
    "}\n",
    "\n",
    "# Setting up the random search with a fixed number of iterations\n",
    "random_search = RandomizedSearchCV(estimator=rf, param_distributions=param_grid, n_iter=100, cv=3, verbose=2, random_state=42, n_jobs=-1, scoring='r2')\n",
    "\n",
    "# Fitting random search\n",
    "random_search.fit(X_train_treated, y_train)\n",
    "\n",
    "# Checking for the best parameters and best score\n",
    "print(\"Best parameters:\", random_search.best_params_)\n",
    "print(\"Best cross-validation score: {:.2f}\".format(random_search.best_score_))"
   ]
  },
  {
   "cell_type": "code",
   "execution_count": 47,
   "id": "5cc379c2",
   "metadata": {},
   "outputs": [
    {
     "data": {
      "text/html": [
       "<style>#sk-container-id-1 {color: black;}#sk-container-id-1 pre{padding: 0;}#sk-container-id-1 div.sk-toggleable {background-color: white;}#sk-container-id-1 label.sk-toggleable__label {cursor: pointer;display: block;width: 100%;margin-bottom: 0;padding: 0.3em;box-sizing: border-box;text-align: center;}#sk-container-id-1 label.sk-toggleable__label-arrow:before {content: \"▸\";float: left;margin-right: 0.25em;color: #696969;}#sk-container-id-1 label.sk-toggleable__label-arrow:hover:before {color: black;}#sk-container-id-1 div.sk-estimator:hover label.sk-toggleable__label-arrow:before {color: black;}#sk-container-id-1 div.sk-toggleable__content {max-height: 0;max-width: 0;overflow: hidden;text-align: left;background-color: #f0f8ff;}#sk-container-id-1 div.sk-toggleable__content pre {margin: 0.2em;color: black;border-radius: 0.25em;background-color: #f0f8ff;}#sk-container-id-1 input.sk-toggleable__control:checked~div.sk-toggleable__content {max-height: 200px;max-width: 100%;overflow: auto;}#sk-container-id-1 input.sk-toggleable__control:checked~label.sk-toggleable__label-arrow:before {content: \"▾\";}#sk-container-id-1 div.sk-estimator input.sk-toggleable__control:checked~label.sk-toggleable__label {background-color: #d4ebff;}#sk-container-id-1 div.sk-label input.sk-toggleable__control:checked~label.sk-toggleable__label {background-color: #d4ebff;}#sk-container-id-1 input.sk-hidden--visually {border: 0;clip: rect(1px 1px 1px 1px);clip: rect(1px, 1px, 1px, 1px);height: 1px;margin: -1px;overflow: hidden;padding: 0;position: absolute;width: 1px;}#sk-container-id-1 div.sk-estimator {font-family: monospace;background-color: #f0f8ff;border: 1px dotted black;border-radius: 0.25em;box-sizing: border-box;margin-bottom: 0.5em;}#sk-container-id-1 div.sk-estimator:hover {background-color: #d4ebff;}#sk-container-id-1 div.sk-parallel-item::after {content: \"\";width: 100%;border-bottom: 1px solid gray;flex-grow: 1;}#sk-container-id-1 div.sk-label:hover label.sk-toggleable__label {background-color: #d4ebff;}#sk-container-id-1 div.sk-serial::before {content: \"\";position: absolute;border-left: 1px solid gray;box-sizing: border-box;top: 0;bottom: 0;left: 50%;z-index: 0;}#sk-container-id-1 div.sk-serial {display: flex;flex-direction: column;align-items: center;background-color: white;padding-right: 0.2em;padding-left: 0.2em;position: relative;}#sk-container-id-1 div.sk-item {position: relative;z-index: 1;}#sk-container-id-1 div.sk-parallel {display: flex;align-items: stretch;justify-content: center;background-color: white;position: relative;}#sk-container-id-1 div.sk-item::before, #sk-container-id-1 div.sk-parallel-item::before {content: \"\";position: absolute;border-left: 1px solid gray;box-sizing: border-box;top: 0;bottom: 0;left: 50%;z-index: -1;}#sk-container-id-1 div.sk-parallel-item {display: flex;flex-direction: column;z-index: 1;position: relative;background-color: white;}#sk-container-id-1 div.sk-parallel-item:first-child::after {align-self: flex-end;width: 50%;}#sk-container-id-1 div.sk-parallel-item:last-child::after {align-self: flex-start;width: 50%;}#sk-container-id-1 div.sk-parallel-item:only-child::after {width: 0;}#sk-container-id-1 div.sk-dashed-wrapped {border: 1px dashed gray;margin: 0 0.4em 0.5em 0.4em;box-sizing: border-box;padding-bottom: 0.4em;background-color: white;}#sk-container-id-1 div.sk-label label {font-family: monospace;font-weight: bold;display: inline-block;line-height: 1.2em;}#sk-container-id-1 div.sk-label-container {text-align: center;}#sk-container-id-1 div.sk-container {/* jupyter's `normalize.less` sets `[hidden] { display: none; }` but bootstrap.min.css set `[hidden] { display: none !important; }` so we also need the `!important` here to be able to override the default hidden behavior on the sphinx rendered scikit-learn.org. See: https://github.com/scikit-learn/scikit-learn/issues/21755 */display: inline-block !important;position: relative;}#sk-container-id-1 div.sk-text-repr-fallback {display: none;}</style><div id=\"sk-container-id-1\" class=\"sk-top-container\"><div class=\"sk-text-repr-fallback\"><pre>RandomForestRegressor(max_features=&#x27;log2&#x27;, n_estimators=300, random_state=42)</pre><b>In a Jupyter environment, please rerun this cell to show the HTML representation or trust the notebook. <br />On GitHub, the HTML representation is unable to render, please try loading this page with nbviewer.org.</b></div><div class=\"sk-container\" hidden><div class=\"sk-item\"><div class=\"sk-estimator sk-toggleable\"><input class=\"sk-toggleable__control sk-hidden--visually\" id=\"sk-estimator-id-1\" type=\"checkbox\" checked><label for=\"sk-estimator-id-1\" class=\"sk-toggleable__label sk-toggleable__label-arrow\">RandomForestRegressor</label><div class=\"sk-toggleable__content\"><pre>RandomForestRegressor(max_features=&#x27;log2&#x27;, n_estimators=300, random_state=42)</pre></div></div></div></div></div>"
      ],
      "text/plain": [
       "RandomForestRegressor(max_features='log2', n_estimators=300, random_state=42)"
      ]
     },
     "execution_count": 47,
     "metadata": {},
     "output_type": "execute_result"
    }
   ],
   "source": [
    "# Initializing the RandomForestRegressor model using the best parameters found previously\n",
    "rf_final = RandomForestRegressor(\n",
    "    n_estimators=300,\n",
    "    max_features='log2',\n",
    "    max_depth=None,\n",
    "    min_samples_split=2,\n",
    "    min_samples_leaf=1,\n",
    "    random_state=42\n",
    ")\n",
    "\n",
    "# Training the model on the full training dataset\n",
    "rf_final.fit(X_train_treated, y_train)\n"
   ]
  },
  {
   "cell_type": "markdown",
   "id": "cd3e28f7",
   "metadata": {},
   "source": [
    "# Model Validation"
   ]
  },
  {
   "cell_type": "code",
   "execution_count": 48,
   "id": "6ff78726",
   "metadata": {},
   "outputs": [
    {
     "name": "stdout",
     "output_type": "stream",
     "text": [
      "Mean Squared Error (MSE): 1527981.21\n",
      "Root Mean Squared Error (RMSE): 1236.12\n",
      "Mean Absolute Error (MAE): 227.58\n",
      "R^2 Score: 0.96\n"
     ]
    }
   ],
   "source": [
    "# Predict on the test dataset\n",
    "# Make sure X_test and y_test are your test data and labels\n",
    "y_pred = rf_final.predict(X_test_treated)\n",
    "\n",
    "# Calculate the metrics\n",
    "mse = mean_squared_error(y_test, y_pred)\n",
    "rmse = np.sqrt(mse)  # Root Mean Squared Error\n",
    "mae = mean_absolute_error(y_test, y_pred)\n",
    "r2 = r2_score(y_test, y_pred)\n",
    "\n",
    "# Print the results\n",
    "print(f\"Mean Squared Error (MSE): {mse:.2f}\")\n",
    "print(f\"Root Mean Squared Error (RMSE): {rmse:.2f}\")\n",
    "print(f\"Mean Absolute Error (MAE): {mae:.2f}\")\n",
    "print(f\"R^2 Score: {r2:.2f}\")\n"
   ]
  },
  {
   "cell_type": "markdown",
   "id": "5271f814",
   "metadata": {},
   "source": [
    "# Hyperparameter tuning_KNeighbors Model"
   ]
  },
  {
   "cell_type": "markdown",
   "id": "064fca0b",
   "metadata": {},
   "source": [
    "While tuning the K-Neighbors Regressor (KNN), we adjust several parameters: n_neighbors determines the number of neighbors to \n",
    "consider, affecting prediction sensitivity; weights dictates whether each point's influence is equal or weighted by distance,\n",
    "impacting prediction precision; and p selects the distance metric (Manhattan or Euclidean), influencing how distances are\n",
    "calculated and interpreted within the model."
   ]
  },
  {
   "cell_type": "code",
   "execution_count": 49,
   "id": "7f6857a7",
   "metadata": {},
   "outputs": [
    {
     "name": "stdout",
     "output_type": "stream",
     "text": [
      "Fitting 3 folds for each of 16 candidates, totalling 48 fits\n"
     ]
    },
    {
     "name": "stderr",
     "output_type": "stream",
     "text": [
      "C:\\ProgramData\\anaconda3\\Lib\\site-packages\\sklearn\\model_selection\\_search.py:307: UserWarning: The total space of parameters 16 is smaller than n_iter=100. Running 16 iterations. For exhaustive searches, use GridSearchCV.\n",
      "  warnings.warn(\n"
     ]
    },
    {
     "name": "stdout",
     "output_type": "stream",
     "text": [
      "Best parameters: {'weights': 'distance', 'p': 1, 'n_neighbors': 3}\n",
      "Best cross-validation score: 0.97\n"
     ]
    }
   ],
   "source": [
    "# Defining the model\n",
    "knn = KNeighborsRegressor()\n",
    "\n",
    "# Defining the parameter grid\n",
    "param_grid = {\n",
    "    'n_neighbors': [3, 5, 7, 9],  \n",
    "    'weights': ['uniform', 'distance'],  \n",
    "    'p': [1, 2]  # power parameter for the Minkowski metric (1: Manhattan distance, 2: Euclidean distance)\n",
    "}\n",
    "\n",
    "# Setting up the random search with a fixed number of iterations\n",
    "random_search = RandomizedSearchCV(estimator=knn, param_distributions=param_grid, n_iter=100, cv=3, verbose=2, random_state=42, n_jobs=-1, scoring='r2')\n",
    "\n",
    "# Fitting random search\n",
    "random_search.fit(X_train_treated, y_train)\n",
    "\n",
    "# Printing the best parameters and best score\n",
    "print(\"Best parameters:\", random_search.best_params_)\n",
    "print(\"Best cross-validation score: {:.2f}\".format(random_search.best_score_))\n"
   ]
  },
  {
   "cell_type": "code",
   "execution_count": 50,
   "id": "7674b33f",
   "metadata": {},
   "outputs": [
    {
     "data": {
      "text/html": [
       "<style>#sk-container-id-2 {color: black;}#sk-container-id-2 pre{padding: 0;}#sk-container-id-2 div.sk-toggleable {background-color: white;}#sk-container-id-2 label.sk-toggleable__label {cursor: pointer;display: block;width: 100%;margin-bottom: 0;padding: 0.3em;box-sizing: border-box;text-align: center;}#sk-container-id-2 label.sk-toggleable__label-arrow:before {content: \"▸\";float: left;margin-right: 0.25em;color: #696969;}#sk-container-id-2 label.sk-toggleable__label-arrow:hover:before {color: black;}#sk-container-id-2 div.sk-estimator:hover label.sk-toggleable__label-arrow:before {color: black;}#sk-container-id-2 div.sk-toggleable__content {max-height: 0;max-width: 0;overflow: hidden;text-align: left;background-color: #f0f8ff;}#sk-container-id-2 div.sk-toggleable__content pre {margin: 0.2em;color: black;border-radius: 0.25em;background-color: #f0f8ff;}#sk-container-id-2 input.sk-toggleable__control:checked~div.sk-toggleable__content {max-height: 200px;max-width: 100%;overflow: auto;}#sk-container-id-2 input.sk-toggleable__control:checked~label.sk-toggleable__label-arrow:before {content: \"▾\";}#sk-container-id-2 div.sk-estimator input.sk-toggleable__control:checked~label.sk-toggleable__label {background-color: #d4ebff;}#sk-container-id-2 div.sk-label input.sk-toggleable__control:checked~label.sk-toggleable__label {background-color: #d4ebff;}#sk-container-id-2 input.sk-hidden--visually {border: 0;clip: rect(1px 1px 1px 1px);clip: rect(1px, 1px, 1px, 1px);height: 1px;margin: -1px;overflow: hidden;padding: 0;position: absolute;width: 1px;}#sk-container-id-2 div.sk-estimator {font-family: monospace;background-color: #f0f8ff;border: 1px dotted black;border-radius: 0.25em;box-sizing: border-box;margin-bottom: 0.5em;}#sk-container-id-2 div.sk-estimator:hover {background-color: #d4ebff;}#sk-container-id-2 div.sk-parallel-item::after {content: \"\";width: 100%;border-bottom: 1px solid gray;flex-grow: 1;}#sk-container-id-2 div.sk-label:hover label.sk-toggleable__label {background-color: #d4ebff;}#sk-container-id-2 div.sk-serial::before {content: \"\";position: absolute;border-left: 1px solid gray;box-sizing: border-box;top: 0;bottom: 0;left: 50%;z-index: 0;}#sk-container-id-2 div.sk-serial {display: flex;flex-direction: column;align-items: center;background-color: white;padding-right: 0.2em;padding-left: 0.2em;position: relative;}#sk-container-id-2 div.sk-item {position: relative;z-index: 1;}#sk-container-id-2 div.sk-parallel {display: flex;align-items: stretch;justify-content: center;background-color: white;position: relative;}#sk-container-id-2 div.sk-item::before, #sk-container-id-2 div.sk-parallel-item::before {content: \"\";position: absolute;border-left: 1px solid gray;box-sizing: border-box;top: 0;bottom: 0;left: 50%;z-index: -1;}#sk-container-id-2 div.sk-parallel-item {display: flex;flex-direction: column;z-index: 1;position: relative;background-color: white;}#sk-container-id-2 div.sk-parallel-item:first-child::after {align-self: flex-end;width: 50%;}#sk-container-id-2 div.sk-parallel-item:last-child::after {align-self: flex-start;width: 50%;}#sk-container-id-2 div.sk-parallel-item:only-child::after {width: 0;}#sk-container-id-2 div.sk-dashed-wrapped {border: 1px dashed gray;margin: 0 0.4em 0.5em 0.4em;box-sizing: border-box;padding-bottom: 0.4em;background-color: white;}#sk-container-id-2 div.sk-label label {font-family: monospace;font-weight: bold;display: inline-block;line-height: 1.2em;}#sk-container-id-2 div.sk-label-container {text-align: center;}#sk-container-id-2 div.sk-container {/* jupyter's `normalize.less` sets `[hidden] { display: none; }` but bootstrap.min.css set `[hidden] { display: none !important; }` so we also need the `!important` here to be able to override the default hidden behavior on the sphinx rendered scikit-learn.org. See: https://github.com/scikit-learn/scikit-learn/issues/21755 */display: inline-block !important;position: relative;}#sk-container-id-2 div.sk-text-repr-fallback {display: none;}</style><div id=\"sk-container-id-2\" class=\"sk-top-container\"><div class=\"sk-text-repr-fallback\"><pre>KNeighborsRegressor(n_neighbors=3, p=1, weights=&#x27;distance&#x27;)</pre><b>In a Jupyter environment, please rerun this cell to show the HTML representation or trust the notebook. <br />On GitHub, the HTML representation is unable to render, please try loading this page with nbviewer.org.</b></div><div class=\"sk-container\" hidden><div class=\"sk-item\"><div class=\"sk-estimator sk-toggleable\"><input class=\"sk-toggleable__control sk-hidden--visually\" id=\"sk-estimator-id-2\" type=\"checkbox\" checked><label for=\"sk-estimator-id-2\" class=\"sk-toggleable__label sk-toggleable__label-arrow\">KNeighborsRegressor</label><div class=\"sk-toggleable__content\"><pre>KNeighborsRegressor(n_neighbors=3, p=1, weights=&#x27;distance&#x27;)</pre></div></div></div></div></div>"
      ],
      "text/plain": [
       "KNeighborsRegressor(n_neighbors=3, p=1, weights='distance')"
      ]
     },
     "execution_count": 50,
     "metadata": {},
     "output_type": "execute_result"
    }
   ],
   "source": [
    "# Initializing the KNeighborsRegressor model using the best parameters found previously\n",
    "knn_final = KNeighborsRegressor(\n",
    "    n_neighbors=3,\n",
    "    weights='distance',\n",
    "    p=1\n",
    ")\n",
    "\n",
    "# Training the model on the full training dataset\n",
    "knn_final.fit(X_train_treated, y_train)"
   ]
  },
  {
   "cell_type": "markdown",
   "id": "c57224a4",
   "metadata": {},
   "source": [
    "# Model Validation"
   ]
  },
  {
   "cell_type": "code",
   "execution_count": 51,
   "id": "d693477e",
   "metadata": {},
   "outputs": [
    {
     "name": "stdout",
     "output_type": "stream",
     "text": [
      "Mean Squared Error (MSE): 620507.59\n",
      "Root Mean Squared Error (RMSE): 787.72\n",
      "Mean Absolute Error (MAE): 166.05\n",
      "R^2 Score: 0.99\n"
     ]
    }
   ],
   "source": [
    "# Making predictions on the test set\n",
    "y_pred_knn = knn_final.predict(X_test_treated)\n",
    "\n",
    "# Evaluating the model\n",
    "mse_knn = mean_squared_error(y_test, y_pred_knn)\n",
    "rmse_knn = np.sqrt(mse_knn)\n",
    "mae_knn = mean_absolute_error(y_test, y_pred_knn)\n",
    "r2_knn = r2_score(y_test, y_pred_knn)\n",
    "\n",
    "# Printing the evaluation metrics\n",
    "print(\"Mean Squared Error (MSE): {:.2f}\".format(mse_knn))\n",
    "print(\"Root Mean Squared Error (RMSE): {:.2f}\".format(rmse_knn))\n",
    "print(\"Mean Absolute Error (MAE): {:.2f}\".format(mae_knn))\n",
    "print(\"R^2 Score: {:.2f}\".format(r2_knn))"
   ]
  },
  {
   "cell_type": "markdown",
   "id": "12023c69",
   "metadata": {},
   "source": [
    "# Results Analysis"
   ]
  },
  {
   "cell_type": "markdown",
   "id": "b2a493f5",
   "metadata": {},
   "source": [
    "Error Metrics:\n",
    "KNN significantly outperforms RF in all three error metrics (MSE, RMSE, MAE), indicating that it has lower\n",
    "prediction errors on average. The MSE and RMSE are particularly noteworthy as they are substantially lower for KNN,\n",
    "suggesting that KNN predictions are closer to actual values with less variance in errors.\n",
    "\n",
    "Accuracy (R² Score): \n",
    "KNN also has a higher R² score (0.99) compared to RF (0.96). This metric indicates that KNN explains a\n",
    "higher percentage of the variance in the target variable, making it a more accurate model for this particular dataset."
   ]
  },
  {
   "cell_type": "markdown",
   "id": "b6432949",
   "metadata": {},
   "source": [
    "# Conclusion"
   ]
  },
  {
   "cell_type": "markdown",
   "id": "e7d4096a",
   "metadata": {},
   "source": [
    "KNN has shown superior performance in both the precision of its predictions, as evidenced by lower error values, \n",
    "and in explaining a larger proportion of the variance. This effectiveness may stem from KNN's method of forming predictions\n",
    "based on a localized interpretation of data, which can be particularly powerful if the dataset contains distinct clusters of\n",
    "similar data points. \n",
    "\n",
    "On the other hand, the RandomForest (RF) model also demonstrates strong predictive capabilities with an \n",
    "R² score of 0.96. Its robustness makes it a viable option for more complex or varied datasets, where RF's ensemble approach \n",
    "could effectively manage outliers and model variance.\n",
    "\n",
    "Given these considerations, KNN might be the preferred model for this specific prediction task, provided that issues related \n",
    "to computational efficiency and scalability are addressed appropriately."
   ]
  },
  {
   "cell_type": "code",
   "execution_count": null,
   "id": "1a8804b6",
   "metadata": {},
   "outputs": [],
   "source": []
  }
 ],
 "metadata": {
  "kernelspec": {
   "display_name": "Python 3 (ipykernel)",
   "language": "python",
   "name": "python3"
  },
  "language_info": {
   "codemirror_mode": {
    "name": "ipython",
    "version": 3
   },
   "file_extension": ".py",
   "mimetype": "text/x-python",
   "name": "python",
   "nbconvert_exporter": "python",
   "pygments_lexer": "ipython3",
   "version": "3.11.5"
  }
 },
 "nbformat": 4,
 "nbformat_minor": 5
}
